{
 "cells": [
  {
   "cell_type": "markdown",
   "id": "36127654",
   "metadata": {},
   "source": [
    "# 1. Importación de librerías. "
   ]
  },
  {
   "cell_type": "code",
   "execution_count": 1,
   "id": "066da746",
   "metadata": {},
   "outputs": [],
   "source": [
    "import pandas as pd\n",
    "import numpy as np\n",
    "from IPython.display import HTML\n",
    "from datetime import datetime\n",
    "import re\n",
    "pd.options.display.max_rows = 25\n",
    "import warnings\n",
    "warnings.filterwarnings('ignore')"
   ]
  },
  {
   "cell_type": "markdown",
   "id": "71346b76",
   "metadata": {},
   "source": [
    "# 2. Importación del archivo y creación del data frame"
   ]
  },
  {
   "cell_type": "code",
   "execution_count": 2,
   "id": "4fd0aced",
   "metadata": {
    "scrolled": true
   },
   "outputs": [
    {
     "data": {
      "text/html": [
       "<div>\n",
       "<style scoped>\n",
       "    .dataframe tbody tr th:only-of-type {\n",
       "        vertical-align: middle;\n",
       "    }\n",
       "\n",
       "    .dataframe tbody tr th {\n",
       "        vertical-align: top;\n",
       "    }\n",
       "\n",
       "    .dataframe thead th {\n",
       "        text-align: right;\n",
       "    }\n",
       "</style>\n",
       "<table border=\"1\" class=\"dataframe\">\n",
       "  <thead>\n",
       "    <tr style=\"text-align: right;\">\n",
       "      <th></th>\n",
       "      <th>Case Number</th>\n",
       "      <th>Date</th>\n",
       "      <th>Year</th>\n",
       "      <th>Type</th>\n",
       "      <th>Country</th>\n",
       "      <th>Area</th>\n",
       "      <th>Location</th>\n",
       "      <th>Activity</th>\n",
       "      <th>Name</th>\n",
       "      <th>Sex</th>\n",
       "      <th>...</th>\n",
       "      <th>Species</th>\n",
       "      <th>Investigator or Source</th>\n",
       "      <th>pdf</th>\n",
       "      <th>href formula</th>\n",
       "      <th>href</th>\n",
       "      <th>Case Number.1</th>\n",
       "      <th>Case Number.2</th>\n",
       "      <th>original order</th>\n",
       "      <th>Unnamed: 22</th>\n",
       "      <th>Unnamed: 23</th>\n",
       "    </tr>\n",
       "  </thead>\n",
       "  <tbody>\n",
       "    <tr>\n",
       "      <th>0</th>\n",
       "      <td>2018.06.25</td>\n",
       "      <td>25-Jun-2018</td>\n",
       "      <td>2018.0</td>\n",
       "      <td>Boating</td>\n",
       "      <td>USA</td>\n",
       "      <td>California</td>\n",
       "      <td>Oceanside, San Diego County</td>\n",
       "      <td>Paddling</td>\n",
       "      <td>Julie Wolfe</td>\n",
       "      <td>F</td>\n",
       "      <td>...</td>\n",
       "      <td>White shark</td>\n",
       "      <td>R. Collier, GSAF</td>\n",
       "      <td>2018.06.25-Wolfe.pdf</td>\n",
       "      <td>http://sharkattackfile.net/spreadsheets/pdf_di...</td>\n",
       "      <td>http://sharkattackfile.net/spreadsheets/pdf_di...</td>\n",
       "      <td>2018.06.25</td>\n",
       "      <td>2018.06.25</td>\n",
       "      <td>6303.0</td>\n",
       "      <td>NaN</td>\n",
       "      <td>NaN</td>\n",
       "    </tr>\n",
       "    <tr>\n",
       "      <th>1</th>\n",
       "      <td>2018.06.18</td>\n",
       "      <td>18-Jun-2018</td>\n",
       "      <td>2018.0</td>\n",
       "      <td>Unprovoked</td>\n",
       "      <td>USA</td>\n",
       "      <td>Georgia</td>\n",
       "      <td>St. Simon Island, Glynn County</td>\n",
       "      <td>Standing</td>\n",
       "      <td>Adyson McNeely</td>\n",
       "      <td>F</td>\n",
       "      <td>...</td>\n",
       "      <td>NaN</td>\n",
       "      <td>K.McMurray, TrackingSharks.com</td>\n",
       "      <td>2018.06.18-McNeely.pdf</td>\n",
       "      <td>http://sharkattackfile.net/spreadsheets/pdf_di...</td>\n",
       "      <td>http://sharkattackfile.net/spreadsheets/pdf_di...</td>\n",
       "      <td>2018.06.18</td>\n",
       "      <td>2018.06.18</td>\n",
       "      <td>6302.0</td>\n",
       "      <td>NaN</td>\n",
       "      <td>NaN</td>\n",
       "    </tr>\n",
       "    <tr>\n",
       "      <th>2</th>\n",
       "      <td>2018.06.09</td>\n",
       "      <td>09-Jun-2018</td>\n",
       "      <td>2018.0</td>\n",
       "      <td>Invalid</td>\n",
       "      <td>USA</td>\n",
       "      <td>Hawaii</td>\n",
       "      <td>Habush, Oahu</td>\n",
       "      <td>Surfing</td>\n",
       "      <td>John Denges</td>\n",
       "      <td>M</td>\n",
       "      <td>...</td>\n",
       "      <td>NaN</td>\n",
       "      <td>K.McMurray, TrackingSharks.com</td>\n",
       "      <td>2018.06.09-Denges.pdf</td>\n",
       "      <td>http://sharkattackfile.net/spreadsheets/pdf_di...</td>\n",
       "      <td>http://sharkattackfile.net/spreadsheets/pdf_di...</td>\n",
       "      <td>2018.06.09</td>\n",
       "      <td>2018.06.09</td>\n",
       "      <td>6301.0</td>\n",
       "      <td>NaN</td>\n",
       "      <td>NaN</td>\n",
       "    </tr>\n",
       "    <tr>\n",
       "      <th>3</th>\n",
       "      <td>2018.06.08</td>\n",
       "      <td>08-Jun-2018</td>\n",
       "      <td>2018.0</td>\n",
       "      <td>Unprovoked</td>\n",
       "      <td>AUSTRALIA</td>\n",
       "      <td>New South Wales</td>\n",
       "      <td>Arrawarra Headland</td>\n",
       "      <td>Surfing</td>\n",
       "      <td>male</td>\n",
       "      <td>M</td>\n",
       "      <td>...</td>\n",
       "      <td>2 m shark</td>\n",
       "      <td>B. Myatt, GSAF</td>\n",
       "      <td>2018.06.08-Arrawarra.pdf</td>\n",
       "      <td>http://sharkattackfile.net/spreadsheets/pdf_di...</td>\n",
       "      <td>http://sharkattackfile.net/spreadsheets/pdf_di...</td>\n",
       "      <td>2018.06.08</td>\n",
       "      <td>2018.06.08</td>\n",
       "      <td>6300.0</td>\n",
       "      <td>NaN</td>\n",
       "      <td>NaN</td>\n",
       "    </tr>\n",
       "    <tr>\n",
       "      <th>4</th>\n",
       "      <td>2018.06.04</td>\n",
       "      <td>04-Jun-2018</td>\n",
       "      <td>2018.0</td>\n",
       "      <td>Provoked</td>\n",
       "      <td>MEXICO</td>\n",
       "      <td>Colima</td>\n",
       "      <td>La Ticla</td>\n",
       "      <td>Free diving</td>\n",
       "      <td>Gustavo Ramos</td>\n",
       "      <td>M</td>\n",
       "      <td>...</td>\n",
       "      <td>Tiger shark, 3m</td>\n",
       "      <td>A .Kipper</td>\n",
       "      <td>2018.06.04-Ramos.pdf</td>\n",
       "      <td>http://sharkattackfile.net/spreadsheets/pdf_di...</td>\n",
       "      <td>http://sharkattackfile.net/spreadsheets/pdf_di...</td>\n",
       "      <td>2018.06.04</td>\n",
       "      <td>2018.06.04</td>\n",
       "      <td>6299.0</td>\n",
       "      <td>NaN</td>\n",
       "      <td>NaN</td>\n",
       "    </tr>\n",
       "    <tr>\n",
       "      <th>...</th>\n",
       "      <td>...</td>\n",
       "      <td>...</td>\n",
       "      <td>...</td>\n",
       "      <td>...</td>\n",
       "      <td>...</td>\n",
       "      <td>...</td>\n",
       "      <td>...</td>\n",
       "      <td>...</td>\n",
       "      <td>...</td>\n",
       "      <td>...</td>\n",
       "      <td>...</td>\n",
       "      <td>...</td>\n",
       "      <td>...</td>\n",
       "      <td>...</td>\n",
       "      <td>...</td>\n",
       "      <td>...</td>\n",
       "      <td>...</td>\n",
       "      <td>...</td>\n",
       "      <td>...</td>\n",
       "      <td>...</td>\n",
       "      <td>...</td>\n",
       "    </tr>\n",
       "    <tr>\n",
       "      <th>25718</th>\n",
       "      <td>NaN</td>\n",
       "      <td>NaN</td>\n",
       "      <td>NaN</td>\n",
       "      <td>NaN</td>\n",
       "      <td>NaN</td>\n",
       "      <td>NaN</td>\n",
       "      <td>NaN</td>\n",
       "      <td>NaN</td>\n",
       "      <td>NaN</td>\n",
       "      <td>NaN</td>\n",
       "      <td>...</td>\n",
       "      <td>NaN</td>\n",
       "      <td>NaN</td>\n",
       "      <td>NaN</td>\n",
       "      <td>NaN</td>\n",
       "      <td>NaN</td>\n",
       "      <td>NaN</td>\n",
       "      <td>NaN</td>\n",
       "      <td>NaN</td>\n",
       "      <td>NaN</td>\n",
       "      <td>NaN</td>\n",
       "    </tr>\n",
       "    <tr>\n",
       "      <th>25719</th>\n",
       "      <td>NaN</td>\n",
       "      <td>NaN</td>\n",
       "      <td>NaN</td>\n",
       "      <td>NaN</td>\n",
       "      <td>NaN</td>\n",
       "      <td>NaN</td>\n",
       "      <td>NaN</td>\n",
       "      <td>NaN</td>\n",
       "      <td>NaN</td>\n",
       "      <td>NaN</td>\n",
       "      <td>...</td>\n",
       "      <td>NaN</td>\n",
       "      <td>NaN</td>\n",
       "      <td>NaN</td>\n",
       "      <td>NaN</td>\n",
       "      <td>NaN</td>\n",
       "      <td>NaN</td>\n",
       "      <td>NaN</td>\n",
       "      <td>NaN</td>\n",
       "      <td>NaN</td>\n",
       "      <td>NaN</td>\n",
       "    </tr>\n",
       "    <tr>\n",
       "      <th>25720</th>\n",
       "      <td>NaN</td>\n",
       "      <td>NaN</td>\n",
       "      <td>NaN</td>\n",
       "      <td>NaN</td>\n",
       "      <td>NaN</td>\n",
       "      <td>NaN</td>\n",
       "      <td>NaN</td>\n",
       "      <td>NaN</td>\n",
       "      <td>NaN</td>\n",
       "      <td>NaN</td>\n",
       "      <td>...</td>\n",
       "      <td>NaN</td>\n",
       "      <td>NaN</td>\n",
       "      <td>NaN</td>\n",
       "      <td>NaN</td>\n",
       "      <td>NaN</td>\n",
       "      <td>NaN</td>\n",
       "      <td>NaN</td>\n",
       "      <td>NaN</td>\n",
       "      <td>NaN</td>\n",
       "      <td>NaN</td>\n",
       "    </tr>\n",
       "    <tr>\n",
       "      <th>25721</th>\n",
       "      <td>NaN</td>\n",
       "      <td>NaN</td>\n",
       "      <td>NaN</td>\n",
       "      <td>NaN</td>\n",
       "      <td>NaN</td>\n",
       "      <td>NaN</td>\n",
       "      <td>NaN</td>\n",
       "      <td>NaN</td>\n",
       "      <td>NaN</td>\n",
       "      <td>NaN</td>\n",
       "      <td>...</td>\n",
       "      <td>NaN</td>\n",
       "      <td>NaN</td>\n",
       "      <td>NaN</td>\n",
       "      <td>NaN</td>\n",
       "      <td>NaN</td>\n",
       "      <td>NaN</td>\n",
       "      <td>NaN</td>\n",
       "      <td>NaN</td>\n",
       "      <td>NaN</td>\n",
       "      <td>NaN</td>\n",
       "    </tr>\n",
       "    <tr>\n",
       "      <th>25722</th>\n",
       "      <td>xx</td>\n",
       "      <td>NaN</td>\n",
       "      <td>NaN</td>\n",
       "      <td>NaN</td>\n",
       "      <td>NaN</td>\n",
       "      <td>NaN</td>\n",
       "      <td>NaN</td>\n",
       "      <td>NaN</td>\n",
       "      <td>NaN</td>\n",
       "      <td>NaN</td>\n",
       "      <td>...</td>\n",
       "      <td>NaN</td>\n",
       "      <td>NaN</td>\n",
       "      <td>NaN</td>\n",
       "      <td>NaN</td>\n",
       "      <td>NaN</td>\n",
       "      <td>NaN</td>\n",
       "      <td>NaN</td>\n",
       "      <td>NaN</td>\n",
       "      <td>NaN</td>\n",
       "      <td>NaN</td>\n",
       "    </tr>\n",
       "  </tbody>\n",
       "</table>\n",
       "<p>25723 rows × 24 columns</p>\n",
       "</div>"
      ],
      "text/plain": [
       "      Case Number         Date    Year        Type    Country  \\\n",
       "0      2018.06.25  25-Jun-2018  2018.0     Boating        USA   \n",
       "1      2018.06.18  18-Jun-2018  2018.0  Unprovoked        USA   \n",
       "2      2018.06.09  09-Jun-2018  2018.0     Invalid        USA   \n",
       "3      2018.06.08  08-Jun-2018  2018.0  Unprovoked  AUSTRALIA   \n",
       "4      2018.06.04  04-Jun-2018  2018.0    Provoked     MEXICO   \n",
       "...           ...          ...     ...         ...        ...   \n",
       "25718         NaN          NaN     NaN         NaN        NaN   \n",
       "25719         NaN          NaN     NaN         NaN        NaN   \n",
       "25720         NaN          NaN     NaN         NaN        NaN   \n",
       "25721         NaN          NaN     NaN         NaN        NaN   \n",
       "25722          xx          NaN     NaN         NaN        NaN   \n",
       "\n",
       "                  Area                        Location     Activity  \\\n",
       "0           California     Oceanside, San Diego County     Paddling   \n",
       "1              Georgia  St. Simon Island, Glynn County     Standing   \n",
       "2               Hawaii                    Habush, Oahu      Surfing   \n",
       "3      New South Wales              Arrawarra Headland      Surfing   \n",
       "4               Colima                        La Ticla  Free diving   \n",
       "...                ...                             ...          ...   \n",
       "25718              NaN                             NaN          NaN   \n",
       "25719              NaN                             NaN          NaN   \n",
       "25720              NaN                             NaN          NaN   \n",
       "25721              NaN                             NaN          NaN   \n",
       "25722              NaN                             NaN          NaN   \n",
       "\n",
       "                  Name Sex   ...         Species   \\\n",
       "0          Julie Wolfe    F  ...      White shark   \n",
       "1      Adyson McNeely     F  ...              NaN   \n",
       "2          John Denges    M  ...              NaN   \n",
       "3                 male    M  ...        2 m shark   \n",
       "4       Gustavo Ramos     M  ...  Tiger shark, 3m   \n",
       "...                ...  ...  ...              ...   \n",
       "25718              NaN  NaN  ...              NaN   \n",
       "25719              NaN  NaN  ...              NaN   \n",
       "25720              NaN  NaN  ...              NaN   \n",
       "25721              NaN  NaN  ...              NaN   \n",
       "25722              NaN  NaN  ...              NaN   \n",
       "\n",
       "               Investigator or Source                       pdf  \\\n",
       "0                    R. Collier, GSAF      2018.06.25-Wolfe.pdf   \n",
       "1      K.McMurray, TrackingSharks.com    2018.06.18-McNeely.pdf   \n",
       "2      K.McMurray, TrackingSharks.com     2018.06.09-Denges.pdf   \n",
       "3                      B. Myatt, GSAF  2018.06.08-Arrawarra.pdf   \n",
       "4                           A .Kipper      2018.06.04-Ramos.pdf   \n",
       "...                               ...                       ...   \n",
       "25718                             NaN                       NaN   \n",
       "25719                             NaN                       NaN   \n",
       "25720                             NaN                       NaN   \n",
       "25721                             NaN                       NaN   \n",
       "25722                             NaN                       NaN   \n",
       "\n",
       "                                            href formula  \\\n",
       "0      http://sharkattackfile.net/spreadsheets/pdf_di...   \n",
       "1      http://sharkattackfile.net/spreadsheets/pdf_di...   \n",
       "2      http://sharkattackfile.net/spreadsheets/pdf_di...   \n",
       "3      http://sharkattackfile.net/spreadsheets/pdf_di...   \n",
       "4      http://sharkattackfile.net/spreadsheets/pdf_di...   \n",
       "...                                                  ...   \n",
       "25718                                                NaN   \n",
       "25719                                                NaN   \n",
       "25720                                                NaN   \n",
       "25721                                                NaN   \n",
       "25722                                                NaN   \n",
       "\n",
       "                                                    href Case Number.1  \\\n",
       "0      http://sharkattackfile.net/spreadsheets/pdf_di...    2018.06.25   \n",
       "1      http://sharkattackfile.net/spreadsheets/pdf_di...    2018.06.18   \n",
       "2      http://sharkattackfile.net/spreadsheets/pdf_di...    2018.06.09   \n",
       "3      http://sharkattackfile.net/spreadsheets/pdf_di...    2018.06.08   \n",
       "4      http://sharkattackfile.net/spreadsheets/pdf_di...    2018.06.04   \n",
       "...                                                  ...           ...   \n",
       "25718                                                NaN           NaN   \n",
       "25719                                                NaN           NaN   \n",
       "25720                                                NaN           NaN   \n",
       "25721                                                NaN           NaN   \n",
       "25722                                                NaN           NaN   \n",
       "\n",
       "      Case Number.2 original order Unnamed: 22 Unnamed: 23  \n",
       "0        2018.06.25         6303.0         NaN         NaN  \n",
       "1        2018.06.18         6302.0         NaN         NaN  \n",
       "2        2018.06.09         6301.0         NaN         NaN  \n",
       "3        2018.06.08         6300.0         NaN         NaN  \n",
       "4        2018.06.04         6299.0         NaN         NaN  \n",
       "...             ...            ...         ...         ...  \n",
       "25718           NaN            NaN         NaN         NaN  \n",
       "25719           NaN            NaN         NaN         NaN  \n",
       "25720           NaN            NaN         NaN         NaN  \n",
       "25721           NaN            NaN         NaN         NaN  \n",
       "25722           NaN            NaN         NaN         NaN  \n",
       "\n",
       "[25723 rows x 24 columns]"
      ]
     },
     "metadata": {},
     "output_type": "display_data"
    }
   ],
   "source": [
    "sharks = pd.read_csv('attacks.csv', encoding = 'latin1')\n",
    "display(sharks)"
   ]
  },
  {
   "cell_type": "markdown",
   "id": "f32980fc",
   "metadata": {},
   "source": [
    "# 3. Exploración del data frame"
   ]
  },
  {
   "cell_type": "markdown",
   "id": "c6d870dd",
   "metadata": {},
   "source": [
    "3.1. Elementos totales del data frame (número de filas multiplicado por el número de columnas)."
   ]
  },
  {
   "cell_type": "code",
   "execution_count": 3,
   "id": "a7237559",
   "metadata": {},
   "outputs": [
    {
     "name": "stdout",
     "output_type": "stream",
     "text": [
      "617352\n"
     ]
    }
   ],
   "source": [
    "print(sharks.size)"
   ]
  },
  {
   "cell_type": "markdown",
   "id": "54a387de",
   "metadata": {},
   "source": [
    "3.2. Número de filas y número de columnas."
   ]
  },
  {
   "cell_type": "code",
   "execution_count": 4,
   "id": "b00d25ca",
   "metadata": {},
   "outputs": [
    {
     "name": "stdout",
     "output_type": "stream",
     "text": [
      "(25723, 24)\n"
     ]
    }
   ],
   "source": [
    "print(sharks.shape)"
   ]
  },
  {
   "cell_type": "markdown",
   "id": "3a2777d0",
   "metadata": {},
   "source": [
    "3.3. Información general del data frame."
   ]
  },
  {
   "cell_type": "code",
   "execution_count": 5,
   "id": "bfd0da1c",
   "metadata": {
    "scrolled": false
   },
   "outputs": [
    {
     "name": "stdout",
     "output_type": "stream",
     "text": [
      "<class 'pandas.core.frame.DataFrame'>\n",
      "RangeIndex: 25723 entries, 0 to 25722\n",
      "Data columns (total 24 columns):\n",
      " #   Column                  Non-Null Count  Dtype  \n",
      "---  ------                  --------------  -----  \n",
      " 0   Case Number             8702 non-null   object \n",
      " 1   Date                    6302 non-null   object \n",
      " 2   Year                    6300 non-null   float64\n",
      " 3   Type                    6298 non-null   object \n",
      " 4   Country                 6252 non-null   object \n",
      " 5   Area                    5847 non-null   object \n",
      " 6   Location                5762 non-null   object \n",
      " 7   Activity                5758 non-null   object \n",
      " 8   Name                    6092 non-null   object \n",
      " 9   Sex                     5737 non-null   object \n",
      " 10  Age                     3471 non-null   object \n",
      " 11  Injury                  6274 non-null   object \n",
      " 12  Fatal (Y/N)             5763 non-null   object \n",
      " 13  Time                    2948 non-null   object \n",
      " 14  Species                 3464 non-null   object \n",
      " 15  Investigator or Source  6285 non-null   object \n",
      " 16  pdf                     6302 non-null   object \n",
      " 17  href formula            6301 non-null   object \n",
      " 18  href                    6302 non-null   object \n",
      " 19  Case Number.1           6302 non-null   object \n",
      " 20  Case Number.2           6302 non-null   object \n",
      " 21  original order          6309 non-null   float64\n",
      " 22  Unnamed: 22             1 non-null      object \n",
      " 23  Unnamed: 23             2 non-null      object \n",
      "dtypes: float64(2), object(22)\n",
      "memory usage: 4.7+ MB\n"
     ]
    },
    {
     "data": {
      "text/plain": [
       "None"
      ]
     },
     "metadata": {},
     "output_type": "display_data"
    }
   ],
   "source": [
    "display(sharks.info())"
   ]
  },
  {
   "cell_type": "markdown",
   "id": "cc05d9fb",
   "metadata": {},
   "source": [
    "3.4. Nombres de las columnas del data frame."
   ]
  },
  {
   "cell_type": "code",
   "execution_count": 6,
   "id": "403e309e",
   "metadata": {},
   "outputs": [
    {
     "name": "stdout",
     "output_type": "stream",
     "text": [
      "Index(['Case Number', 'Date', 'Year', 'Type', 'Country', 'Area', 'Location',\n",
      "       'Activity', 'Name', 'Sex ', 'Age', 'Injury', 'Fatal (Y/N)', 'Time',\n",
      "       'Species ', 'Investigator or Source', 'pdf', 'href formula', 'href',\n",
      "       'Case Number.1', 'Case Number.2', 'original order', 'Unnamed: 22',\n",
      "       'Unnamed: 23'],\n",
      "      dtype='object')\n"
     ]
    }
   ],
   "source": [
    "print(sharks.columns)"
   ]
  },
  {
   "cell_type": "markdown",
   "id": "28f4f8eb",
   "metadata": {},
   "source": [
    "3.5. Tipo de datos del data frame. "
   ]
  },
  {
   "cell_type": "code",
   "execution_count": 7,
   "id": "738ed78e",
   "metadata": {
    "scrolled": false
   },
   "outputs": [
    {
     "data": {
      "text/plain": [
       "Case Number                object\n",
       "Date                       object\n",
       "Year                      float64\n",
       "Type                       object\n",
       "Country                    object\n",
       "Area                       object\n",
       "Location                   object\n",
       "Activity                   object\n",
       "Name                       object\n",
       "Sex                        object\n",
       "Age                        object\n",
       "Injury                     object\n",
       "Fatal (Y/N)                object\n",
       "Time                       object\n",
       "Species                    object\n",
       "Investigator or Source     object\n",
       "pdf                        object\n",
       "href formula               object\n",
       "href                       object\n",
       "Case Number.1              object\n",
       "Case Number.2              object\n",
       "original order            float64\n",
       "Unnamed: 22                object\n",
       "Unnamed: 23                object\n",
       "dtype: object"
      ]
     },
     "metadata": {},
     "output_type": "display_data"
    }
   ],
   "source": [
    "display(sharks.dtypes)"
   ]
  },
  {
   "cell_type": "markdown",
   "id": "1cf48507",
   "metadata": {},
   "source": [
    "# 4. Valores nulos por FILAS"
   ]
  },
  {
   "cell_type": "markdown",
   "id": "13c0c47d",
   "metadata": {},
   "source": [
    "4.1. Eliminación de las FILAS en las cuáles todos sus valores sean nulos."
   ]
  },
  {
   "cell_type": "code",
   "execution_count": 8,
   "id": "2ddb6ee6",
   "metadata": {},
   "outputs": [
    {
     "name": "stdout",
     "output_type": "stream",
     "text": [
      "None\n"
     ]
    }
   ],
   "source": [
    "filas_nulas = sharks.dropna(how = 'all', inplace=True)\n",
    "print(filas_nulas)"
   ]
  },
  {
   "cell_type": "markdown",
   "id": "b347c000",
   "metadata": {},
   "source": [
    "4.2. Eliminación de FILAS cuyos valores nulos superen el 75% de los datos. "
   ]
  },
  {
   "cell_type": "code",
   "execution_count": 9,
   "id": "71c4788d",
   "metadata": {},
   "outputs": [],
   "source": [
    "def rows_removal (x):\n",
    "    threshold = 0.75 * len(sharks.columns)\n",
    "    return x.dropna(thresh = threshold)\n",
    "\n",
    "sharks = rows_removal(sharks)"
   ]
  },
  {
   "cell_type": "markdown",
   "id": "d82aef53",
   "metadata": {},
   "source": [
    "4.2. Comprobación de las medidas del data frame después de haber borrado las FILAS."
   ]
  },
  {
   "cell_type": "code",
   "execution_count": 10,
   "id": "6a65d91f",
   "metadata": {},
   "outputs": [
    {
     "name": "stdout",
     "output_type": "stream",
     "text": [
      "(5874, 24)\n"
     ]
    }
   ],
   "source": [
    "print(sharks.shape)\n",
    "\n",
    "# 19.849 filas menos."
   ]
  },
  {
   "cell_type": "markdown",
   "id": "44e951f9",
   "metadata": {},
   "source": [
    "# 5. Valores nulos por COLUMNAS"
   ]
  },
  {
   "cell_type": "markdown",
   "id": "df3a5920",
   "metadata": {},
   "source": [
    "5.1. Cuántos elementos nulos hay por cada COLUMNA."
   ]
  },
  {
   "cell_type": "code",
   "execution_count": 11,
   "id": "f22ccfc4",
   "metadata": {
    "scrolled": false
   },
   "outputs": [
    {
     "name": "stdout",
     "output_type": "stream",
     "text": [
      "Case Number                  1\n",
      "Date                         0\n",
      "Year                         2\n",
      "Type                         1\n",
      "Country                     10\n",
      "Area                       240\n",
      "Location                   314\n",
      "Activity                   349\n",
      "Name                        62\n",
      "Sex                        337\n",
      "Age                       2419\n",
      "Injury                       8\n",
      "Fatal (Y/N)                443\n",
      "Time                      2942\n",
      "Species                   2522\n",
      "Investigator or Source      13\n",
      "pdf                          0\n",
      "href formula                 1\n",
      "href                         0\n",
      "Case Number.1                0\n",
      "Case Number.2                0\n",
      "original order               0\n",
      "Unnamed: 22               5873\n",
      "Unnamed: 23               5872\n",
      "dtype: int64\n"
     ]
    }
   ],
   "source": [
    "nan_cols = sharks.isna().sum()\n",
    "nan_cols[nan_cols > 0]\n",
    "print(nan_cols)"
   ]
  },
  {
   "cell_type": "markdown",
   "id": "10251df4",
   "metadata": {},
   "source": [
    "5.2. Sustitución de los valores nulos en las COLUMNAS."
   ]
  },
  {
   "cell_type": "code",
   "execution_count": 12,
   "id": "8b07c446",
   "metadata": {},
   "outputs": [],
   "source": [
    "sharks = sharks.fillna('Unknown')"
   ]
  },
  {
   "cell_type": "markdown",
   "id": "b071cd4b",
   "metadata": {},
   "source": [
    "# 6. Comprobación de los datos del data frame"
   ]
  },
  {
   "cell_type": "markdown",
   "id": "84df995a",
   "metadata": {},
   "source": [
    "# 7. Reordenación de columnas según el objetivo"
   ]
  },
  {
   "cell_type": "code",
   "execution_count": 13,
   "id": "05744b61",
   "metadata": {
    "scrolled": false
   },
   "outputs": [],
   "source": [
    "columns_order = ['Country', 'Year', 'Sex ', 'Age', 'Fatal (Y/N)', 'Date', 'Type', 'Activity', 'href formula', 'href', 'Case Number',\n",
    "       'Case Number.1', 'Case Number.2', 'Area', 'Location', 'Name', 'Injury', 'Time',\n",
    "       'Species ', 'Investigator or Source', 'pdf', 'original order', 'Unnamed: 22',\n",
    "       'Unnamed: 23']\n",
    "sharks = sharks.reindex(columns = columns_order) "
   ]
  },
  {
   "cell_type": "markdown",
   "id": "fbfab98d",
   "metadata": {},
   "source": [
    "7.2. Cambio nombre columnas con espacio."
   ]
  },
  {
   "cell_type": "code",
   "execution_count": 14,
   "id": "9380110d",
   "metadata": {},
   "outputs": [],
   "source": [
    "sharks = sharks.rename(columns = {'Sex ': 'Sex'})\n",
    "\n",
    "sharks = sharks.rename(columns = {'Species ': 'Species'})"
   ]
  },
  {
   "cell_type": "markdown",
   "id": "15e8a134",
   "metadata": {},
   "source": [
    "# 8. Limpieza de los datos por COLUMNA"
   ]
  },
  {
   "cell_type": "markdown",
   "id": "f9e74c64",
   "metadata": {},
   "source": [
    "# 8.1. Limpieza columna 'Country'."
   ]
  },
  {
   "cell_type": "code",
   "execution_count": 15,
   "id": "966f9332",
   "metadata": {
    "scrolled": false
   },
   "outputs": [
    {
     "name": "stdout",
     "output_type": "stream",
     "text": [
      "['USA' 'Australia' 'England' 'New Zealand' 'Scotland' 'Canada' 'Ireland']\n"
     ]
    }
   ],
   "source": [
    "# Para que contenga los valores que se correspondan con los la lista.\n",
    "\n",
    "world_countries = ['Afghanistan', 'Albania', 'Germany', 'Andorra', 'Angola', 'Antigua and Barbuda', 'Saudi Arabia', 'Algeria', 'Argentina', 'Armenia',\n",
    "    'Australia', 'Austria', 'Azerbaijan', 'Bahamas', 'Bahrain', 'Bangladesh', 'Barbados', 'Belgium', 'Belize', 'Benin',\n",
    "    'Belarus', 'Myanmar', 'Bolivia', 'Bosnia and Herzegovina', 'Botswana', 'Brazil', 'Brunei', 'Bulgaria', 'Burkina Faso', 'Burundi',\n",
    "    'Bhutan', 'Cape Verde', 'Cambodia', 'Cameroon', 'Canada', 'Qatar', 'Chad', 'Chile', 'China', 'Cyprus',\n",
    "    'Colombia', 'Comoros', 'Congo', 'North Korea', 'South Korea', 'Ivory Coast', 'Costa Rica', 'Croatia', 'Cuba', 'Denmark',\n",
    "    'Dominica', 'Ecuador', 'Egypt', 'El Salvador', 'United Arab Emirates', 'Eritrea', 'Slovakia', 'Slovenia', 'Spain', 'United States',\n",
    "    'Estonia', 'Ethiopia', 'Fiji', 'Philippines', 'Finland', 'France', 'Gabon', 'Gambia', 'Georgia', 'Ghana', 'Grenada',\n",
    "    'Greece', 'Guatemala', 'Guinea', 'Guinea-Bissau', 'Guyana', 'Haiti', 'Honduras', 'Hungary', 'India', 'Indonesia', 'Iraq',\n",
    "    'Iran', 'Ireland', 'Iceland', 'Marshall Islands', 'Solomon Islands', 'Israel', 'Italy', 'Jamaica', 'Japan', 'Jordan',\n",
    "    'Kazakhstan', 'Kenya', 'Kyrgyzstan', 'Kiribati', 'Kuwait', 'Laos', 'Lesotho', 'Latvia', 'Lebanon', 'Liberia',\n",
    "    'Libya', 'Liechtenstein', 'Lithuania', 'Luxembourg', 'North Macedonia', 'Madagascar', 'Malaysia', 'Malawi', 'Maldives', 'Mali',\n",
    "    'Malta', 'Morocco', 'Mauritius', 'Mauritania', 'Mexico', 'Micronesia', 'Moldova', 'Monaco', 'Mongolia', 'Montenegro',\n",
    "    'Mozambique', 'Namibia', 'Nauru', 'Nepal', 'Nicaragua', 'Niger', 'Nigeria', 'Norway', 'New Zealand', 'Oman',\n",
    "    'Netherlands', 'Pakistan', 'Palau', 'Palestine', 'Panama', 'Papua New Guinea', 'Paraguay', 'Peru', 'Poland', 'Portugal',\n",
    "    'United Kingdom', 'Central African Republic', 'Czech Republic', 'Congo', 'Dominican Republic', 'Rwanda', 'Romania', 'Russia', 'Samoa',\n",
    "    'Saint Kitts and Nevis', 'San Marino', 'Saint Lucia', 'São Tomé and Príncipe', 'Senegal', 'Serbia', 'Seychelles', 'Sierra Leone', 'Singapore',\n",
    "    'Syria', 'Somalia', 'Sri Lanka', 'South Africa', 'Sudan', 'South Sudan', 'Sweden', 'Switzerland', 'Suriname', 'Eswatini',\n",
    "    'Thailand', 'Taiwan', 'Tanzania', 'Tajikistan', 'East Timor', 'Togo', 'Tonga', 'Trinidad and Tobago', 'Tunisia', 'Turkmenistan',\n",
    "    'Turkey', 'Tuvalu', 'Ukraine', 'Uganda', 'Uruguay', 'Uzbekistan', 'Vanuatu', 'Vatican', 'Venezuela', 'Vietnam', 'Yemen',\n",
    "    'Djibouti', 'Zambia', 'Zimbabwe', 'usa', 'england', 'scotland', 'colombia', 'nicaragua', 'sudan', 'egypt', 'peru', 'ghana', 'korea']\n",
    "\n",
    "\n",
    "# Conversión a minúsculas.\n",
    "\n",
    "world_countries = [e.lower() for e in world_countries]\n",
    "\n",
    "\n",
    "#Verificar qué países hay. \n",
    "\n",
    "def correct_country (x):\n",
    "    x = x.lower()\n",
    "    if x in world_countries:\n",
    "        return x\n",
    "    else:\n",
    "        return 'Unknown'\n",
    "    return x\n",
    "\n",
    "sharks['Country'] = sharks['Country'].apply(correct_country)\n",
    "\n",
    "\n",
    "# Conversión a mayúsculas de las primeras letras.\n",
    "\n",
    "def correct_mayusc (x): \n",
    "    if x != 'usa':\n",
    "        return x.title()\n",
    "    else:\n",
    "        return 'USA'\n",
    "    \n",
    "sharks['Country'] = sharks['Country'].apply(correct_mayusc)\n",
    "\n",
    "\n",
    "# Creación columna con filtro por países de habla inglesa o no.\n",
    "\n",
    "english_sp_places = ['USA', 'England', 'Scotland', 'Ireland', 'Australia', 'Canada', 'New Zealand']\n",
    "sharks['English Speaking'] = sharks['Country'].apply(lambda x: 'Yes' if x in english_sp_places else 'No')\n",
    "\n",
    "\n",
    "# Eliminación por FILAS de países que NO sean de habla inglesa.\n",
    "\n",
    "sharks = sharks[sharks['English Speaking'] != 'No']\n",
    "\n",
    "\n",
    "# Comprobación. \n",
    "\n",
    "print(sharks['Country'].unique())"
   ]
  },
  {
   "cell_type": "markdown",
   "id": "71187f66",
   "metadata": {},
   "source": [
    "# 8.2. Limpieza columna 'Year'."
   ]
  },
  {
   "cell_type": "code",
   "execution_count": 16,
   "id": "7f9f2d99",
   "metadata": {
    "scrolled": true
   },
   "outputs": [
    {
     "name": "stdout",
     "output_type": "stream",
     "text": [
      "[2018 2017 2016 2015 2014 2013 2012 2011 2010 2009 2008 2007 2006 2005\n",
      " 2004 2003 2002 2001 2000 1999 1998 1997 1996 1995 1994 1993 1992 1991\n",
      " 1990 1989 1988 1987 1986 1985 1984 1983 1982 1981 1980 1979 1978 1977\n",
      " 1976 1975 1974 1973 1972 1971 1970 1969 1968 1967 1966 1965 1964 1963\n",
      " 1962 1961 1960 1959 1958 1957 1956 1955 1954 1953 1952 1951 1950 1949\n",
      " 1948 1947 1946 1945 1944 1943 1942 1941 1940 1939 1938 1937 1936 1935\n",
      " 1934 1933 1932 1931 1930 1929 1928 1927 1926 1925 1924 1923 1922 1921\n",
      " 1920 1919 1918 1917 1916 1915 1914 1913 1912 1911 1910 1909 1908 1907\n",
      " 1906 1905 1904 1903 1902 1901]\n"
     ]
    }
   ],
   "source": [
    "# Sustitución de 'Unknown' por valores de columna con datos del año.\n",
    "\n",
    "values = sharks[sharks['Year'] == 'Unknown']['Case Number'].str.split('.').values\n",
    "\n",
    "values = [e[0] for e in values]\n",
    "\n",
    "indexes = sharks[sharks['Year'] == 'Unknown'].index\n",
    "\n",
    "sharks.loc[indexes, 'Year'] = values\n",
    "\n",
    "\n",
    "# Conversión de los años de 'float' a 'integer'.\n",
    "\n",
    "sharks['Year'] = sharks['Year'].astype(int)\n",
    "\n",
    "\n",
    "# Eliminación por FILAS de ataques que NO fueran en los siglos XX y XXI.\n",
    "\n",
    "sharks = sharks[(sharks['Year'] >= 1901) & (sharks['Year'] <= 2018)]\n",
    "\n",
    "\n",
    "# Comprobación. \n",
    "\n",
    "print(sharks['Year'].unique())"
   ]
  },
  {
   "cell_type": "markdown",
   "id": "1ee38607",
   "metadata": {},
   "source": [
    "# 8.3. Limpieza columna 'Sex'."
   ]
  },
  {
   "cell_type": "code",
   "execution_count": 17,
   "id": "94c94766",
   "metadata": {
    "scrolled": false
   },
   "outputs": [
    {
     "name": "stdout",
     "output_type": "stream",
     "text": [
      "['M']\n"
     ]
    }
   ],
   "source": [
    "# Para que contenga valores 'M', 'N', 'lli', 'N' y 'Unknown'.\n",
    "\n",
    "sharks['Sex'] = sharks['Sex'].apply(lambda x: 'M' if x == 'M ' else 'Unknown' if x == '.' else x)\n",
    "\n",
    "\n",
    "# Eliminación por filas de ataques que NO fueran a hombres.\n",
    "\n",
    "sharks = sharks[sharks['Sex'] == 'M']\n",
    "\n",
    "\n",
    "# Comprobación.\n",
    "\n",
    "print(sharks['Sex'].unique())"
   ]
  },
  {
   "cell_type": "markdown",
   "id": "034615ec",
   "metadata": {},
   "source": [
    "# 8.4. Limpieza columna 'Age'."
   ]
  },
  {
   "cell_type": "code",
   "execution_count": 18,
   "id": "4adb9539",
   "metadata": {},
   "outputs": [
    {
     "name": "stdout",
     "output_type": "stream",
     "text": [
      "[48.0 'Unknown' 52.0 15.0 12.0 32.0 10.0 21.0 60.0 29.0 41.0 37.0 25.0\n",
      " 69.0 18.0 34.0 35.0 14.0 28.0 7.0 31.0 17.0 54.0 33.0 13.0 40.0 50.0 46.0\n",
      " 19.0 73.0 16.0 39.0 58.0 30.0 26.0 22.0 55.0 57.0 47.0 20.0 61.0 65.0\n",
      " 42.0 36.0 43.0 9.0 49.0 59.0 11.0 27.0 64.0 71.0 44.0 62.0 38.0 68.0 6.0\n",
      " 63.0 70.0 53.0 23.0 8.0 24.0 45.0 3.0 51.0 56.0 5.0 86.0 66.0 84.0 75.0\n",
      " 87.0 67.0 74.0 78.0]\n"
     ]
    }
   ],
   "source": [
    "# Conversión de la serie de 'str' a 'float'.\n",
    "\n",
    "sharks['Age'] = pd.to_numeric(sharks['Age'], errors = 'coerce')\n",
    "\n",
    "\n",
    "# Conversión de datos de 'str' a 'Unknown'.\n",
    "\n",
    "sharks['Age'] = sharks['Age'].fillna('Unknown')\n",
    "\n",
    "\n",
    "#Comprobación. \n",
    "\n",
    "print(sharks['Age'].unique())"
   ]
  },
  {
   "cell_type": "markdown",
   "id": "96b744b6",
   "metadata": {},
   "source": [
    "# 8.5. Limpieza columna 'Fatal (Y/N)'."
   ]
  },
  {
   "cell_type": "code",
   "execution_count": 19,
   "id": "99cabf37",
   "metadata": {
    "scrolled": true
   },
   "outputs": [
    {
     "name": "stdout",
     "output_type": "stream",
     "text": [
      "['N' 'Unknown' 'Y']\n"
     ]
    }
   ],
   "source": [
    "# Para que contenga valores 'Y', 'N' y 'Unknown'.\n",
    "\n",
    "def correct_fatal (x):\n",
    "    if x == 'M' or x == ' N':\n",
    "        return 'N'\n",
    "    elif x == 'y':\n",
    "        return 'Y'\n",
    "    elif x == '2017' or x == 'UNKNOWN':\n",
    "        return 'Unknown'\n",
    "    return x\n",
    "\n",
    "sharks['Fatal (Y/N)'] = sharks['Fatal (Y/N)'].apply(correct_fatal)\n",
    "\n",
    "\n",
    "# Comprobación. \n",
    "\n",
    "print(sharks['Fatal (Y/N)'].unique())"
   ]
  },
  {
   "cell_type": "markdown",
   "id": "171efe28",
   "metadata": {},
   "source": [
    "# 8.6. Limpieza columna 'Date'."
   ]
  },
  {
   "cell_type": "code",
   "execution_count": 20,
   "id": "c32fb647",
   "metadata": {},
   "outputs": [],
   "source": [
    "# Extracción de año.mes.día de la columna 'pdf'.\n",
    "\n",
    "sharks['Date'] = sharks['pdf'].str[:10]"
   ]
  },
  {
   "cell_type": "markdown",
   "id": "d7cd5700",
   "metadata": {},
   "source": [
    "# 8.7. Limpieza columna 'Type'."
   ]
  },
  {
   "cell_type": "code",
   "execution_count": 21,
   "id": "f91327e0",
   "metadata": {
    "scrolled": true
   },
   "outputs": [
    {
     "data": {
      "text/plain": [
       "Unprovoked      2074\n",
       "Provoked         302\n",
       "Invalid          214\n",
       "Boating           71\n",
       "Sea Disaster      39\n",
       "Questionable       2\n",
       "Name: Type, dtype: int64"
      ]
     },
     "metadata": {},
     "output_type": "display_data"
    }
   ],
   "source": [
    "# Para que tenga valores 'Invalid', '(Un)provoked', 'Questionable', 'Sea Disaster' y 'Boating'\n",
    "\n",
    "sharks['Type'] = sharks['Type'].apply(lambda x: 'Boating' if x == 'Boat' or x == 'Boatomg' else x)\n",
    "\n",
    "\n",
    "# Comprobación.\n",
    "\n",
    "display(sharks['Type'].value_counts())"
   ]
  },
  {
   "cell_type": "markdown",
   "id": "b9e56de4",
   "metadata": {},
   "source": [
    "# 8.8. Limpieza columna 'Activity'."
   ]
  },
  {
   "cell_type": "code",
   "execution_count": 22,
   "id": "7f8ccfa8",
   "metadata": {
    "scrolled": false
   },
   "outputs": [
    {
     "data": {
      "text/plain": [
       "array(['Surfing', 'Unknown', 'Fishing', 'Walking', 'Standing',\n",
       "       'Boogie boarding', 'Swimming', 'Body boarding',\n",
       "       'Stand-Up Paddleboarding', 'Wading', 'Spearfishing', 'Diving',\n",
       "       'Free diving', 'Snorkeling', 'Kayaking', 'Canoeing',\n",
       "       'Kayaking / Fishing', 'Surf fishing', 'Fishing for sharks',\n",
       "       'Floating', 'Body surfing', 'Windsurfing', 'Paddle boarding',\n",
       "       'Kayak Fishing', 'Surf-skiing', 'Treading water', 'Surf skiing ',\n",
       "       'Kite Surfing', 'Swimming ', 'Boogie Boarding', 'Scuba diving',\n",
       "       'Diving for abalone', 'Sitting on surfboard',\n",
       "       'Surfing (sitting on his board)', 'Free diving for abalone',\n",
       "       'Floating on his back', 'Paddling on surfboard', 'Freediving',\n",
       "       'Spearfishing on Scuba', 'Bathing', 'Diving for trochus',\n",
       "       'Pearl diving'], dtype=object)"
      ]
     },
     "execution_count": 22,
     "metadata": {},
     "output_type": "execute_result"
    }
   ],
   "source": [
    "# Almacenamiento de valores únicos en una variable. \n",
    "\n",
    "frequency = sharks['Activity'].value_counts()\n",
    "\n",
    "# Alamacenamiento de valores que se repiten menos de 4 veces en una variable. \n",
    "\n",
    "data_change = frequency[frequency < 4].index\n",
    "\n",
    "# Cambio de los datos en el data frame y sustitución del resto por 'Unknown'.\n",
    "\n",
    "sharks['Activity'] = sharks['Activity'].apply(lambda x: 'Unknown' if x in data_change else x)\n",
    "\n",
    "# Corrección de espacios\n",
    "\n",
    "def correct_spaces (x):\n",
    "    if x == 'Surfing ':\n",
    "        return 'Surfing'\n",
    "    elif x == 'Fishing ':\n",
    "        return 'Fishing'\n",
    "    elif x == 'Surf skiing':\n",
    "        return 'Surf-skiing'\n",
    "    else:\n",
    "        return x\n",
    "\n",
    "sharks['Activity'] = sharks['Activity'].apply(correct_spaces)\n",
    "\n",
    "\n",
    "# Comprobación.\n",
    "\n",
    "sharks['Activity'].unique()"
   ]
  },
  {
   "cell_type": "markdown",
   "id": "0893bd8e",
   "metadata": {},
   "source": [
    "# 8.9. Limpieza columna 'Case Number'."
   ]
  },
  {
   "cell_type": "code",
   "execution_count": 23,
   "id": "8579b335",
   "metadata": {
    "scrolled": true
   },
   "outputs": [
    {
     "name": "stdout",
     "output_type": "stream",
     "text": [
      "['2018.06.09' '2018.06.08' '2018.06.03' ... '1901.12.01' '1901.01.30'\n",
      " '1901.00.00']\n"
     ]
    }
   ],
   "source": [
    "# Extracción de año.mes.día de la columna 'pdf'.\n",
    "\n",
    "sharks['Case Number'] = sharks['pdf'].str[:10]\n",
    "\n",
    "\n",
    "# Comprobación.\n",
    "\n",
    "print(sharks['Case Number'].unique())"
   ]
  },
  {
   "cell_type": "markdown",
   "id": "d94885fb",
   "metadata": {},
   "source": [
    "# 8.10. Limpieza columna 'Case Number.1'."
   ]
  },
  {
   "cell_type": "code",
   "execution_count": 24,
   "id": "1ec0570c",
   "metadata": {},
   "outputs": [
    {
     "name": "stdout",
     "output_type": "stream",
     "text": [
      "['2018.06.09' '2018.06.08' '2018.06.03' ... '1901.12.01' '1901.01.30'\n",
      " '1901.00.00']\n"
     ]
    }
   ],
   "source": [
    "# Extracción de año.mes.día de la columna 'pdf'.\n",
    "\n",
    "sharks['Case Number.1'] = sharks['pdf'].str[:10]\n",
    "\n",
    "\n",
    "# Comprobación.\n",
    "\n",
    "print(sharks['Case Number.1'].unique())"
   ]
  },
  {
   "cell_type": "markdown",
   "id": "5b11d592",
   "metadata": {},
   "source": [
    "# 8.11. Limpieza columna 'Case Number.2'."
   ]
  },
  {
   "cell_type": "code",
   "execution_count": 25,
   "id": "c06beee0",
   "metadata": {},
   "outputs": [
    {
     "name": "stdout",
     "output_type": "stream",
     "text": [
      "['2018.06.09' '2018.06.08' '2018.06.03' ... '1901.12.01' '1901.01.30'\n",
      " '1901.00.00']\n"
     ]
    }
   ],
   "source": [
    "# Extracción de año.mes.día de la columna 'pdf'.\n",
    "\n",
    "sharks['Case Number.2'] = sharks['pdf'].str[:10]\n",
    "\n",
    "\n",
    "# Comprobación.\n",
    "\n",
    "print(sharks['Case Number.2'].unique())"
   ]
  },
  {
   "cell_type": "markdown",
   "id": "688363c5",
   "metadata": {},
   "source": [
    "# 8.12. Limpieza columna 'href formula' and 'href'."
   ]
  },
  {
   "cell_type": "code",
   "execution_count": 26,
   "id": "d28ff87d",
   "metadata": {
    "scrolled": true
   },
   "outputs": [],
   "source": [
    "# Despliege de los enlaces para que sean accesibles.\n",
    "\n",
    "#HTML(sharks.to_html(escape = False))"
   ]
  },
  {
   "cell_type": "markdown",
   "id": "03333e68",
   "metadata": {},
   "source": [
    "# 9. Datos finales del data frame."
   ]
  },
  {
   "cell_type": "code",
   "execution_count": 27,
   "id": "5d518b92",
   "metadata": {},
   "outputs": [
    {
     "name": "stdout",
     "output_type": "stream",
     "text": [
      "(2702, 25)\n",
      "67550\n"
     ]
    }
   ],
   "source": [
    "print(sharks.shape)\n",
    "\n",
    "print(sharks.size)"
   ]
  },
  {
   "cell_type": "code",
   "execution_count": 28,
   "id": "bc37bd2d",
   "metadata": {},
   "outputs": [
    {
     "data": {
      "text/html": [
       "<div>\n",
       "<style scoped>\n",
       "    .dataframe tbody tr th:only-of-type {\n",
       "        vertical-align: middle;\n",
       "    }\n",
       "\n",
       "    .dataframe tbody tr th {\n",
       "        vertical-align: top;\n",
       "    }\n",
       "\n",
       "    .dataframe thead th {\n",
       "        text-align: right;\n",
       "    }\n",
       "</style>\n",
       "<table border=\"1\" class=\"dataframe\">\n",
       "  <thead>\n",
       "    <tr style=\"text-align: right;\">\n",
       "      <th></th>\n",
       "      <th>Country</th>\n",
       "      <th>Year</th>\n",
       "      <th>Sex</th>\n",
       "      <th>Age</th>\n",
       "      <th>Fatal (Y/N)</th>\n",
       "      <th>Date</th>\n",
       "      <th>Type</th>\n",
       "      <th>Activity</th>\n",
       "      <th>href formula</th>\n",
       "      <th>href</th>\n",
       "      <th>...</th>\n",
       "      <th>Name</th>\n",
       "      <th>Injury</th>\n",
       "      <th>Time</th>\n",
       "      <th>Species</th>\n",
       "      <th>Investigator or Source</th>\n",
       "      <th>pdf</th>\n",
       "      <th>original order</th>\n",
       "      <th>Unnamed: 22</th>\n",
       "      <th>Unnamed: 23</th>\n",
       "      <th>English Speaking</th>\n",
       "    </tr>\n",
       "  </thead>\n",
       "  <tbody>\n",
       "    <tr>\n",
       "      <th>2</th>\n",
       "      <td>USA</td>\n",
       "      <td>2018</td>\n",
       "      <td>M</td>\n",
       "      <td>48.0</td>\n",
       "      <td>N</td>\n",
       "      <td>2018.06.09</td>\n",
       "      <td>Invalid</td>\n",
       "      <td>Surfing</td>\n",
       "      <td>http://sharkattackfile.net/spreadsheets/pdf_di...</td>\n",
       "      <td>http://sharkattackfile.net/spreadsheets/pdf_di...</td>\n",
       "      <td>...</td>\n",
       "      <td>John Denges</td>\n",
       "      <td>Injury to left lower leg from surfboard skeg</td>\n",
       "      <td>07h45</td>\n",
       "      <td>Unknown</td>\n",
       "      <td>K.McMurray, TrackingSharks.com</td>\n",
       "      <td>2018.06.09-Denges.pdf</td>\n",
       "      <td>6301.0</td>\n",
       "      <td>Unknown</td>\n",
       "      <td>Unknown</td>\n",
       "      <td>Yes</td>\n",
       "    </tr>\n",
       "    <tr>\n",
       "      <th>3</th>\n",
       "      <td>Australia</td>\n",
       "      <td>2018</td>\n",
       "      <td>M</td>\n",
       "      <td>Unknown</td>\n",
       "      <td>N</td>\n",
       "      <td>2018.06.08</td>\n",
       "      <td>Unprovoked</td>\n",
       "      <td>Surfing</td>\n",
       "      <td>http://sharkattackfile.net/spreadsheets/pdf_di...</td>\n",
       "      <td>http://sharkattackfile.net/spreadsheets/pdf_di...</td>\n",
       "      <td>...</td>\n",
       "      <td>male</td>\n",
       "      <td>Minor injury to lower leg</td>\n",
       "      <td>Unknown</td>\n",
       "      <td>2 m shark</td>\n",
       "      <td>B. Myatt, GSAF</td>\n",
       "      <td>2018.06.08-Arrawarra.pdf</td>\n",
       "      <td>6300.0</td>\n",
       "      <td>Unknown</td>\n",
       "      <td>Unknown</td>\n",
       "      <td>Yes</td>\n",
       "    </tr>\n",
       "    <tr>\n",
       "      <th>5</th>\n",
       "      <td>Australia</td>\n",
       "      <td>2018</td>\n",
       "      <td>M</td>\n",
       "      <td>Unknown</td>\n",
       "      <td>N</td>\n",
       "      <td>2018.06.03</td>\n",
       "      <td>Unprovoked</td>\n",
       "      <td>Unknown</td>\n",
       "      <td>http://sharkattackfile.net/spreadsheets/pdf_di...</td>\n",
       "      <td>http://sharkattackfile.net/spreadsheets/pdf_di...</td>\n",
       "      <td>...</td>\n",
       "      <td>Chris</td>\n",
       "      <td>No injury, board bitten</td>\n",
       "      <td>Unknown</td>\n",
       "      <td>Unknown</td>\n",
       "      <td>Daily Telegraph, 6/4/2018</td>\n",
       "      <td>2018.06.03.b-FlatRock.pdf</td>\n",
       "      <td>6298.0</td>\n",
       "      <td>Unknown</td>\n",
       "      <td>Unknown</td>\n",
       "      <td>Yes</td>\n",
       "    </tr>\n",
       "    <tr>\n",
       "      <th>7</th>\n",
       "      <td>USA</td>\n",
       "      <td>2018</td>\n",
       "      <td>M</td>\n",
       "      <td>52.0</td>\n",
       "      <td>N</td>\n",
       "      <td>2018.05.27</td>\n",
       "      <td>Unprovoked</td>\n",
       "      <td>Fishing</td>\n",
       "      <td>http://sharkattackfile.net/spreadsheets/pdf_di...</td>\n",
       "      <td>http://sharkattackfile.net/spreadsheets/pdf_di...</td>\n",
       "      <td>...</td>\n",
       "      <td>male</td>\n",
       "      <td>Minor injury to foot. PROVOKED INCIDENT</td>\n",
       "      <td>Unknown</td>\n",
       "      <td>Lemon shark, 3'</td>\n",
       "      <td>K. McMurray, TrackingSharks.com</td>\n",
       "      <td>2018.05.27-Ponce.pdf</td>\n",
       "      <td>6296.0</td>\n",
       "      <td>Unknown</td>\n",
       "      <td>Unknown</td>\n",
       "      <td>Yes</td>\n",
       "    </tr>\n",
       "    <tr>\n",
       "      <th>8</th>\n",
       "      <td>USA</td>\n",
       "      <td>2018</td>\n",
       "      <td>M</td>\n",
       "      <td>15.0</td>\n",
       "      <td>N</td>\n",
       "      <td>2018.05.26</td>\n",
       "      <td>Unprovoked</td>\n",
       "      <td>Walking</td>\n",
       "      <td>http://sharkattackfile.net/spreadsheets/pdf_di...</td>\n",
       "      <td>http://sharkattackfile.net/spreadsheets/pdf_di...</td>\n",
       "      <td>...</td>\n",
       "      <td>Cody High</td>\n",
       "      <td>Lower left leg bitten</td>\n",
       "      <td>17h00</td>\n",
       "      <td>Bull shark, 6'</td>\n",
       "      <td>K.McMurray, TrackingSharks.com</td>\n",
       "      <td>2018.05.26.b-High.pdf</td>\n",
       "      <td>6295.0</td>\n",
       "      <td>Unknown</td>\n",
       "      <td>Unknown</td>\n",
       "      <td>Yes</td>\n",
       "    </tr>\n",
       "    <tr>\n",
       "      <th>...</th>\n",
       "      <td>...</td>\n",
       "      <td>...</td>\n",
       "      <td>...</td>\n",
       "      <td>...</td>\n",
       "      <td>...</td>\n",
       "      <td>...</td>\n",
       "      <td>...</td>\n",
       "      <td>...</td>\n",
       "      <td>...</td>\n",
       "      <td>...</td>\n",
       "      <td>...</td>\n",
       "      <td>...</td>\n",
       "      <td>...</td>\n",
       "      <td>...</td>\n",
       "      <td>...</td>\n",
       "      <td>...</td>\n",
       "      <td>...</td>\n",
       "      <td>...</td>\n",
       "      <td>...</td>\n",
       "      <td>...</td>\n",
       "      <td>...</td>\n",
       "    </tr>\n",
       "    <tr>\n",
       "      <th>5539</th>\n",
       "      <td>Australia</td>\n",
       "      <td>1902</td>\n",
       "      <td>M</td>\n",
       "      <td>Unknown</td>\n",
       "      <td>Y</td>\n",
       "      <td>1902.01.22</td>\n",
       "      <td>Unprovoked</td>\n",
       "      <td>Unknown</td>\n",
       "      <td>http://sharkattackfile.net/spreadsheets/pdf_di...</td>\n",
       "      <td>http://sharkattackfile.net/spreadsheets/pdf_di...</td>\n",
       "      <td>...</td>\n",
       "      <td>John Ogier</td>\n",
       "      <td>FATAL</td>\n",
       "      <td>Unknown</td>\n",
       "      <td>Unknown</td>\n",
       "      <td>The Advertiser, 1/25/1902</td>\n",
       "      <td>1902.01.22-Ogier.pdf</td>\n",
       "      <td>764.0</td>\n",
       "      <td>Unknown</td>\n",
       "      <td>Unknown</td>\n",
       "      <td>Yes</td>\n",
       "    </tr>\n",
       "    <tr>\n",
       "      <th>5541</th>\n",
       "      <td>Australia</td>\n",
       "      <td>1902</td>\n",
       "      <td>M</td>\n",
       "      <td>16.0</td>\n",
       "      <td>N</td>\n",
       "      <td>1902.01.19</td>\n",
       "      <td>Unprovoked</td>\n",
       "      <td>Swimming</td>\n",
       "      <td>http://sharkattackfile.net/spreadsheets/pdf_di...</td>\n",
       "      <td>http://sharkattackfile.net/spreadsheets/pdf_di...</td>\n",
       "      <td>...</td>\n",
       "      <td>Charles Jones</td>\n",
       "      <td>Legs bitten</td>\n",
       "      <td>12h00</td>\n",
       "      <td>Unknown</td>\n",
       "      <td>Brisbane Courier, 1/20/1902</td>\n",
       "      <td>1902.01.19-Jones.pdf</td>\n",
       "      <td>762.0</td>\n",
       "      <td>Unknown</td>\n",
       "      <td>Unknown</td>\n",
       "      <td>Yes</td>\n",
       "    </tr>\n",
       "    <tr>\n",
       "      <th>5542</th>\n",
       "      <td>Australia</td>\n",
       "      <td>1901</td>\n",
       "      <td>M</td>\n",
       "      <td>10.0</td>\n",
       "      <td>N</td>\n",
       "      <td>1901.12.01</td>\n",
       "      <td>Unprovoked</td>\n",
       "      <td>Bathing</td>\n",
       "      <td>http://sharkattackfile.net/spreadsheets/pdf_di...</td>\n",
       "      <td>http://sharkattackfile.net/spreadsheets/pdf_di...</td>\n",
       "      <td>...</td>\n",
       "      <td>William Quince</td>\n",
       "      <td>Lacerations to torso &amp; thigh</td>\n",
       "      <td>Unknown</td>\n",
       "      <td>Unknown</td>\n",
       "      <td>The Argus, 12/2/1901</td>\n",
       "      <td>1901.12.01-Quince.pdf</td>\n",
       "      <td>761.0</td>\n",
       "      <td>Unknown</td>\n",
       "      <td>Unknown</td>\n",
       "      <td>Yes</td>\n",
       "    </tr>\n",
       "    <tr>\n",
       "      <th>5549</th>\n",
       "      <td>Australia</td>\n",
       "      <td>1901</td>\n",
       "      <td>M</td>\n",
       "      <td>Unknown</td>\n",
       "      <td>Y</td>\n",
       "      <td>1901.01.30</td>\n",
       "      <td>Unprovoked</td>\n",
       "      <td>Bathing</td>\n",
       "      <td>http://sharkattackfile.net/spreadsheets/pdf_di...</td>\n",
       "      <td>http://sharkattackfile.net/spreadsheets/pdf_di...</td>\n",
       "      <td>...</td>\n",
       "      <td>John Thompson</td>\n",
       "      <td>Thigh bitten, FATAL</td>\n",
       "      <td>Unknown</td>\n",
       "      <td>Unknown</td>\n",
       "      <td>Otago Witness, 2/6/1901</td>\n",
       "      <td>1901.01.30-Thompson.pdf</td>\n",
       "      <td>754.0</td>\n",
       "      <td>Unknown</td>\n",
       "      <td>Unknown</td>\n",
       "      <td>Yes</td>\n",
       "    </tr>\n",
       "    <tr>\n",
       "      <th>5550</th>\n",
       "      <td>USA</td>\n",
       "      <td>1901</td>\n",
       "      <td>M</td>\n",
       "      <td>Unknown</td>\n",
       "      <td>N</td>\n",
       "      <td>1901.00.00</td>\n",
       "      <td>Unprovoked</td>\n",
       "      <td>Bathing</td>\n",
       "      <td>http://sharkattackfile.net/spreadsheets/pdf_di...</td>\n",
       "      <td>http://sharkattackfile.net/spreadsheets/pdf_di...</td>\n",
       "      <td>...</td>\n",
       "      <td>Michael O'Brien</td>\n",
       "      <td>Abdomen bitten</td>\n",
       "      <td>Unknown</td>\n",
       "      <td>Unknown</td>\n",
       "      <td>W.H. Gregg; L. Schultz &amp; M. Malin, p.533</td>\n",
       "      <td>1901.00.00-O'Brien.pdf</td>\n",
       "      <td>753.0</td>\n",
       "      <td>Unknown</td>\n",
       "      <td>Unknown</td>\n",
       "      <td>Yes</td>\n",
       "    </tr>\n",
       "  </tbody>\n",
       "</table>\n",
       "<p>2702 rows × 25 columns</p>\n",
       "</div>"
      ],
      "text/plain": [
       "        Country  Year Sex      Age Fatal (Y/N)        Date        Type  \\\n",
       "2           USA  2018   M     48.0           N  2018.06.09     Invalid   \n",
       "3     Australia  2018   M  Unknown           N  2018.06.08  Unprovoked   \n",
       "5     Australia  2018   M  Unknown           N  2018.06.03  Unprovoked   \n",
       "7           USA  2018   M     52.0           N  2018.05.27  Unprovoked   \n",
       "8           USA  2018   M     15.0           N  2018.05.26  Unprovoked   \n",
       "...         ...   ...  ..      ...         ...         ...         ...   \n",
       "5539  Australia  1902   M  Unknown           Y  1902.01.22  Unprovoked   \n",
       "5541  Australia  1902   M     16.0           N  1902.01.19  Unprovoked   \n",
       "5542  Australia  1901   M     10.0           N  1901.12.01  Unprovoked   \n",
       "5549  Australia  1901   M  Unknown           Y  1901.01.30  Unprovoked   \n",
       "5550        USA  1901   M  Unknown           N  1901.00.00  Unprovoked   \n",
       "\n",
       "      Activity                                       href formula  \\\n",
       "2      Surfing  http://sharkattackfile.net/spreadsheets/pdf_di...   \n",
       "3      Surfing  http://sharkattackfile.net/spreadsheets/pdf_di...   \n",
       "5      Unknown  http://sharkattackfile.net/spreadsheets/pdf_di...   \n",
       "7      Fishing  http://sharkattackfile.net/spreadsheets/pdf_di...   \n",
       "8      Walking  http://sharkattackfile.net/spreadsheets/pdf_di...   \n",
       "...        ...                                                ...   \n",
       "5539   Unknown  http://sharkattackfile.net/spreadsheets/pdf_di...   \n",
       "5541  Swimming  http://sharkattackfile.net/spreadsheets/pdf_di...   \n",
       "5542   Bathing  http://sharkattackfile.net/spreadsheets/pdf_di...   \n",
       "5549   Bathing  http://sharkattackfile.net/spreadsheets/pdf_di...   \n",
       "5550   Bathing  http://sharkattackfile.net/spreadsheets/pdf_di...   \n",
       "\n",
       "                                                   href  ...             Name  \\\n",
       "2     http://sharkattackfile.net/spreadsheets/pdf_di...  ...      John Denges   \n",
       "3     http://sharkattackfile.net/spreadsheets/pdf_di...  ...             male   \n",
       "5     http://sharkattackfile.net/spreadsheets/pdf_di...  ...          Chris \n",
       "   \n",
       "7     http://sharkattackfile.net/spreadsheets/pdf_di...  ...             male   \n",
       "8     http://sharkattackfile.net/spreadsheets/pdf_di...  ...        Cody High   \n",
       "...                                                 ...  ...              ...   \n",
       "5539  http://sharkattackfile.net/spreadsheets/pdf_di...  ...       John Ogier   \n",
       "5541  http://sharkattackfile.net/spreadsheets/pdf_di...  ...    Charles Jones   \n",
       "5542  http://sharkattackfile.net/spreadsheets/pdf_di...  ...   William Quince   \n",
       "5549  http://sharkattackfile.net/spreadsheets/pdf_di...  ...    John Thompson   \n",
       "5550  http://sharkattackfile.net/spreadsheets/pdf_di...  ...  Michael O'Brien   \n",
       "\n",
       "                                            Injury     Time          Species  \\\n",
       "2     Injury to left lower leg from surfboard skeg    07h45          Unknown   \n",
       "3                        Minor injury to lower leg  Unknown        2 m shark   \n",
       "5                          No injury, board bitten  Unknown          Unknown   \n",
       "7          Minor injury to foot. PROVOKED INCIDENT  Unknown  Lemon shark, 3'   \n",
       "8                            Lower left leg bitten    17h00   Bull shark, 6'   \n",
       "...                                            ...      ...              ...   \n",
       "5539                                         FATAL  Unknown          Unknown   \n",
       "5541                                   Legs bitten    12h00          Unknown   \n",
       "5542                  Lacerations to torso & thigh  Unknown          Unknown   \n",
       "5549                           Thigh bitten, FATAL  Unknown          Unknown   \n",
       "5550                                Abdomen bitten  Unknown          Unknown   \n",
       "\n",
       "                        Investigator or Source                        pdf  \\\n",
       "2               K.McMurray, TrackingSharks.com      2018.06.09-Denges.pdf   \n",
       "3                               B. Myatt, GSAF   2018.06.08-Arrawarra.pdf   \n",
       "5                    Daily Telegraph, 6/4/2018  2018.06.03.b-FlatRock.pdf   \n",
       "7              K. McMurray, TrackingSharks.com       2018.05.27-Ponce.pdf   \n",
       "8               K.McMurray, TrackingSharks.com      2018.05.26.b-High.pdf   \n",
       "...                                        ...                        ...   \n",
       "5539                 The Advertiser, 1/25/1902       1902.01.22-Ogier.pdf   \n",
       "5541               Brisbane Courier, 1/20/1902       1902.01.19-Jones.pdf   \n",
       "5542                      The Argus, 12/2/1901      1901.12.01-Quince.pdf   \n",
       "5549                   Otago Witness, 2/6/1901    1901.01.30-Thompson.pdf   \n",
       "5550  W.H. Gregg; L. Schultz & M. Malin, p.533     1901.00.00-O'Brien.pdf   \n",
       "\n",
       "     original order Unnamed: 22 Unnamed: 23 English Speaking  \n",
       "2            6301.0     Unknown     Unknown              Yes  \n",
       "3            6300.0     Unknown     Unknown              Yes  \n",
       "5            6298.0     Unknown     Unknown              Yes  \n",
       "7            6296.0     Unknown     Unknown              Yes  \n",
       "8            6295.0     Unknown     Unknown              Yes  \n",
       "...             ...         ...         ...              ...  \n",
       "5539          764.0     Unknown     Unknown              Yes  \n",
       "5541          762.0     Unknown     Unknown              Yes  \n",
       "5542          761.0     Unknown     Unknown              Yes  \n",
       "5549          754.0     Unknown     Unknown              Yes  \n",
       "5550          753.0     Unknown     Unknown              Yes  \n",
       "\n",
       "[2702 rows x 25 columns]"
      ]
     },
     "metadata": {},
     "output_type": "display_data"
    }
   ],
   "source": [
    "display(sharks)"
   ]
  }
 ],
 "metadata": {
  "kernelspec": {
   "display_name": "Python 3 (ipykernel)",
   "language": "python",
   "name": "python3"
  },
  "language_info": {
   "codemirror_mode": {
    "name": "ipython",
    "version": 3
   },
   "file_extension": ".py",
   "mimetype": "text/x-python",
   "name": "python",
   "nbconvert_exporter": "python",
   "pygments_lexer": "ipython3",
   "version": "3.11.4"
  }
 },
 "nbformat": 4,
 "nbformat_minor": 5
}
