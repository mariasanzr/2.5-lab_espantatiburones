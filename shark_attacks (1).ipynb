{
 "cells": [
  {
   "cell_type": "markdown",
   "id": "8ae8c88a",
   "metadata": {},
   "source": [
    "María Sanz Rocamora"
   ]
  },
  {
   "cell_type": "markdown",
   "id": "4e5123d8",
   "metadata": {},
   "source": [
    "# 1. Importación de librerías"
   ]
  },
  {
   "cell_type": "code",
   "execution_count": 1,
   "id": "066da746",
   "metadata": {},
   "outputs": [],
   "source": [
    "import pandas as pd\n",
    "import numpy as np\n",
    "from IPython.display import HTML\n",
    "from datetime import datetime\n",
    "import re\n",
    "import warnings\n",
    "warnings.filterwarnings('ignore')\n",
    "pd.set_option('display.max_columns', None)"
   ]
  },
  {
   "cell_type": "markdown",
   "id": "71346b76",
   "metadata": {},
   "source": [
    "# 2. Importación del archivo y creación del data frame"
   ]
  },
  {
   "cell_type": "code",
   "execution_count": 2,
   "id": "4fd0aced",
   "metadata": {
    "scrolled": true
   },
   "outputs": [
    {
     "data": {
      "text/html": [
       "<div>\n",
       "<style scoped>\n",
       "    .dataframe tbody tr th:only-of-type {\n",
       "        vertical-align: middle;\n",
       "    }\n",
       "\n",
       "    .dataframe tbody tr th {\n",
       "        vertical-align: top;\n",
       "    }\n",
       "\n",
       "    .dataframe thead th {\n",
       "        text-align: right;\n",
       "    }\n",
       "</style>\n",
       "<table border=\"1\" class=\"dataframe\">\n",
       "  <thead>\n",
       "    <tr style=\"text-align: right;\">\n",
       "      <th></th>\n",
       "      <th>Case Number</th>\n",
       "      <th>Date</th>\n",
       "      <th>Year</th>\n",
       "      <th>Type</th>\n",
       "      <th>Country</th>\n",
       "      <th>Area</th>\n",
       "      <th>Location</th>\n",
       "      <th>Activity</th>\n",
       "      <th>Name</th>\n",
       "      <th>Sex</th>\n",
       "      <th>Age</th>\n",
       "      <th>Injury</th>\n",
       "      <th>Fatal (Y/N)</th>\n",
       "      <th>Time</th>\n",
       "      <th>Species</th>\n",
       "      <th>Investigator or Source</th>\n",
       "      <th>pdf</th>\n",
       "      <th>href formula</th>\n",
       "      <th>href</th>\n",
       "      <th>Case Number.1</th>\n",
       "      <th>Case Number.2</th>\n",
       "      <th>original order</th>\n",
       "      <th>Unnamed: 22</th>\n",
       "      <th>Unnamed: 23</th>\n",
       "    </tr>\n",
       "  </thead>\n",
       "  <tbody>\n",
       "    <tr>\n",
       "      <th>0</th>\n",
       "      <td>2018.06.25</td>\n",
       "      <td>25-Jun-2018</td>\n",
       "      <td>2018.0</td>\n",
       "      <td>Boating</td>\n",
       "      <td>USA</td>\n",
       "      <td>California</td>\n",
       "      <td>Oceanside, San Diego County</td>\n",
       "      <td>Paddling</td>\n",
       "      <td>Julie Wolfe</td>\n",
       "      <td>F</td>\n",
       "      <td>57</td>\n",
       "      <td>No injury to occupant, outrigger canoe and pad...</td>\n",
       "      <td>N</td>\n",
       "      <td>18h00</td>\n",
       "      <td>White shark</td>\n",
       "      <td>R. Collier, GSAF</td>\n",
       "      <td>2018.06.25-Wolfe.pdf</td>\n",
       "      <td>http://sharkattackfile.net/spreadsheets/pdf_di...</td>\n",
       "      <td>http://sharkattackfile.net/spreadsheets/pdf_di...</td>\n",
       "      <td>2018.06.25</td>\n",
       "      <td>2018.06.25</td>\n",
       "      <td>6303.0</td>\n",
       "      <td>NaN</td>\n",
       "      <td>NaN</td>\n",
       "    </tr>\n",
       "    <tr>\n",
       "      <th>1</th>\n",
       "      <td>2018.06.18</td>\n",
       "      <td>18-Jun-2018</td>\n",
       "      <td>2018.0</td>\n",
       "      <td>Unprovoked</td>\n",
       "      <td>USA</td>\n",
       "      <td>Georgia</td>\n",
       "      <td>St. Simon Island, Glynn County</td>\n",
       "      <td>Standing</td>\n",
       "      <td>Adyson McNeely</td>\n",
       "      <td>F</td>\n",
       "      <td>11</td>\n",
       "      <td>Minor injury to left thigh</td>\n",
       "      <td>N</td>\n",
       "      <td>14h00  -15h00</td>\n",
       "      <td>NaN</td>\n",
       "      <td>K.McMurray, TrackingSharks.com</td>\n",
       "      <td>2018.06.18-McNeely.pdf</td>\n",
       "      <td>http://sharkattackfile.net/spreadsheets/pdf_di...</td>\n",
       "      <td>http://sharkattackfile.net/spreadsheets/pdf_di...</td>\n",
       "      <td>2018.06.18</td>\n",
       "      <td>2018.06.18</td>\n",
       "      <td>6302.0</td>\n",
       "      <td>NaN</td>\n",
       "      <td>NaN</td>\n",
       "    </tr>\n",
       "    <tr>\n",
       "      <th>2</th>\n",
       "      <td>2018.06.09</td>\n",
       "      <td>09-Jun-2018</td>\n",
       "      <td>2018.0</td>\n",
       "      <td>Invalid</td>\n",
       "      <td>USA</td>\n",
       "      <td>Hawaii</td>\n",
       "      <td>Habush, Oahu</td>\n",
       "      <td>Surfing</td>\n",
       "      <td>John Denges</td>\n",
       "      <td>M</td>\n",
       "      <td>48</td>\n",
       "      <td>Injury to left lower leg from surfboard skeg</td>\n",
       "      <td>N</td>\n",
       "      <td>07h45</td>\n",
       "      <td>NaN</td>\n",
       "      <td>K.McMurray, TrackingSharks.com</td>\n",
       "      <td>2018.06.09-Denges.pdf</td>\n",
       "      <td>http://sharkattackfile.net/spreadsheets/pdf_di...</td>\n",
       "      <td>http://sharkattackfile.net/spreadsheets/pdf_di...</td>\n",
       "      <td>2018.06.09</td>\n",
       "      <td>2018.06.09</td>\n",
       "      <td>6301.0</td>\n",
       "      <td>NaN</td>\n",
       "      <td>NaN</td>\n",
       "    </tr>\n",
       "    <tr>\n",
       "      <th>3</th>\n",
       "      <td>2018.06.08</td>\n",
       "      <td>08-Jun-2018</td>\n",
       "      <td>2018.0</td>\n",
       "      <td>Unprovoked</td>\n",
       "      <td>AUSTRALIA</td>\n",
       "      <td>New South Wales</td>\n",
       "      <td>Arrawarra Headland</td>\n",
       "      <td>Surfing</td>\n",
       "      <td>male</td>\n",
       "      <td>M</td>\n",
       "      <td>NaN</td>\n",
       "      <td>Minor injury to lower leg</td>\n",
       "      <td>N</td>\n",
       "      <td>NaN</td>\n",
       "      <td>2 m shark</td>\n",
       "      <td>B. Myatt, GSAF</td>\n",
       "      <td>2018.06.08-Arrawarra.pdf</td>\n",
       "      <td>http://sharkattackfile.net/spreadsheets/pdf_di...</td>\n",
       "      <td>http://sharkattackfile.net/spreadsheets/pdf_di...</td>\n",
       "      <td>2018.06.08</td>\n",
       "      <td>2018.06.08</td>\n",
       "      <td>6300.0</td>\n",
       "      <td>NaN</td>\n",
       "      <td>NaN</td>\n",
       "    </tr>\n",
       "    <tr>\n",
       "      <th>4</th>\n",
       "      <td>2018.06.04</td>\n",
       "      <td>04-Jun-2018</td>\n",
       "      <td>2018.0</td>\n",
       "      <td>Provoked</td>\n",
       "      <td>MEXICO</td>\n",
       "      <td>Colima</td>\n",
       "      <td>La Ticla</td>\n",
       "      <td>Free diving</td>\n",
       "      <td>Gustavo Ramos</td>\n",
       "      <td>M</td>\n",
       "      <td>NaN</td>\n",
       "      <td>Lacerations to leg &amp; hand shark PROVOKED INCIDENT</td>\n",
       "      <td>N</td>\n",
       "      <td>NaN</td>\n",
       "      <td>Tiger shark, 3m</td>\n",
       "      <td>A .Kipper</td>\n",
       "      <td>2018.06.04-Ramos.pdf</td>\n",
       "      <td>http://sharkattackfile.net/spreadsheets/pdf_di...</td>\n",
       "      <td>http://sharkattackfile.net/spreadsheets/pdf_di...</td>\n",
       "      <td>2018.06.04</td>\n",
       "      <td>2018.06.04</td>\n",
       "      <td>6299.0</td>\n",
       "      <td>NaN</td>\n",
       "      <td>NaN</td>\n",
       "    </tr>\n",
       "    <tr>\n",
       "      <th>...</th>\n",
       "      <td>...</td>\n",
       "      <td>...</td>\n",
       "      <td>...</td>\n",
       "      <td>...</td>\n",
       "      <td>...</td>\n",
       "      <td>...</td>\n",
       "      <td>...</td>\n",
       "      <td>...</td>\n",
       "      <td>...</td>\n",
       "      <td>...</td>\n",
       "      <td>...</td>\n",
       "      <td>...</td>\n",
       "      <td>...</td>\n",
       "      <td>...</td>\n",
       "      <td>...</td>\n",
       "      <td>...</td>\n",
       "      <td>...</td>\n",
       "      <td>...</td>\n",
       "      <td>...</td>\n",
       "      <td>...</td>\n",
       "      <td>...</td>\n",
       "      <td>...</td>\n",
       "      <td>...</td>\n",
       "      <td>...</td>\n",
       "    </tr>\n",
       "    <tr>\n",
       "      <th>25718</th>\n",
       "      <td>NaN</td>\n",
       "      <td>NaN</td>\n",
       "      <td>NaN</td>\n",
       "      <td>NaN</td>\n",
       "      <td>NaN</td>\n",
       "      <td>NaN</td>\n",
       "      <td>NaN</td>\n",
       "      <td>NaN</td>\n",
       "      <td>NaN</td>\n",
       "      <td>NaN</td>\n",
       "      <td>NaN</td>\n",
       "      <td>NaN</td>\n",
       "      <td>NaN</td>\n",
       "      <td>NaN</td>\n",
       "      <td>NaN</td>\n",
       "      <td>NaN</td>\n",
       "      <td>NaN</td>\n",
       "      <td>NaN</td>\n",
       "      <td>NaN</td>\n",
       "      <td>NaN</td>\n",
       "      <td>NaN</td>\n",
       "      <td>NaN</td>\n",
       "      <td>NaN</td>\n",
       "      <td>NaN</td>\n",
       "    </tr>\n",
       "    <tr>\n",
       "      <th>25719</th>\n",
       "      <td>NaN</td>\n",
       "      <td>NaN</td>\n",
       "      <td>NaN</td>\n",
       "      <td>NaN</td>\n",
       "      <td>NaN</td>\n",
       "      <td>NaN</td>\n",
       "      <td>NaN</td>\n",
       "      <td>NaN</td>\n",
       "      <td>NaN</td>\n",
       "      <td>NaN</td>\n",
       "      <td>NaN</td>\n",
       "      <td>NaN</td>\n",
       "      <td>NaN</td>\n",
       "      <td>NaN</td>\n",
       "      <td>NaN</td>\n",
       "      <td>NaN</td>\n",
       "      <td>NaN</td>\n",
       "      <td>NaN</td>\n",
       "      <td>NaN</td>\n",
       "      <td>NaN</td>\n",
       "      <td>NaN</td>\n",
       "      <td>NaN</td>\n",
       "      <td>NaN</td>\n",
       "      <td>NaN</td>\n",
       "    </tr>\n",
       "    <tr>\n",
       "      <th>25720</th>\n",
       "      <td>NaN</td>\n",
       "      <td>NaN</td>\n",
       "      <td>NaN</td>\n",
       "      <td>NaN</td>\n",
       "      <td>NaN</td>\n",
       "      <td>NaN</td>\n",
       "      <td>NaN</td>\n",
       "      <td>NaN</td>\n",
       "      <td>NaN</td>\n",
       "      <td>NaN</td>\n",
       "      <td>NaN</td>\n",
       "      <td>NaN</td>\n",
       "      <td>NaN</td>\n",
       "      <td>NaN</td>\n",
       "      <td>NaN</td>\n",
       "      <td>NaN</td>\n",
       "      <td>NaN</td>\n",
       "      <td>NaN</td>\n",
       "      <td>NaN</td>\n",
       "      <td>NaN</td>\n",
       "      <td>NaN</td>\n",
       "      <td>NaN</td>\n",
       "      <td>NaN</td>\n",
       "      <td>NaN</td>\n",
       "    </tr>\n",
       "    <tr>\n",
       "      <th>25721</th>\n",
       "      <td>NaN</td>\n",
       "      <td>NaN</td>\n",
       "      <td>NaN</td>\n",
       "      <td>NaN</td>\n",
       "      <td>NaN</td>\n",
       "      <td>NaN</td>\n",
       "      <td>NaN</td>\n",
       "      <td>NaN</td>\n",
       "      <td>NaN</td>\n",
       "      <td>NaN</td>\n",
       "      <td>NaN</td>\n",
       "      <td>NaN</td>\n",
       "      <td>NaN</td>\n",
       "      <td>NaN</td>\n",
       "      <td>NaN</td>\n",
       "      <td>NaN</td>\n",
       "      <td>NaN</td>\n",
       "      <td>NaN</td>\n",
       "      <td>NaN</td>\n",
       "      <td>NaN</td>\n",
       "      <td>NaN</td>\n",
       "      <td>NaN</td>\n",
       "      <td>NaN</td>\n",
       "      <td>NaN</td>\n",
       "    </tr>\n",
       "    <tr>\n",
       "      <th>25722</th>\n",
       "      <td>xx</td>\n",
       "      <td>NaN</td>\n",
       "      <td>NaN</td>\n",
       "      <td>NaN</td>\n",
       "      <td>NaN</td>\n",
       "      <td>NaN</td>\n",
       "      <td>NaN</td>\n",
       "      <td>NaN</td>\n",
       "      <td>NaN</td>\n",
       "      <td>NaN</td>\n",
       "      <td>NaN</td>\n",
       "      <td>NaN</td>\n",
       "      <td>NaN</td>\n",
       "      <td>NaN</td>\n",
       "      <td>NaN</td>\n",
       "      <td>NaN</td>\n",
       "      <td>NaN</td>\n",
       "      <td>NaN</td>\n",
       "      <td>NaN</td>\n",
       "      <td>NaN</td>\n",
       "      <td>NaN</td>\n",
       "      <td>NaN</td>\n",
       "      <td>NaN</td>\n",
       "      <td>NaN</td>\n",
       "    </tr>\n",
       "  </tbody>\n",
       "</table>\n",
       "<p>25723 rows × 24 columns</p>\n",
       "</div>"
      ],
      "text/plain": [
       "      Case Number         Date    Year        Type    Country  \\\n",
       "0      2018.06.25  25-Jun-2018  2018.0     Boating        USA   \n",
       "1      2018.06.18  18-Jun-2018  2018.0  Unprovoked        USA   \n",
       "2      2018.06.09  09-Jun-2018  2018.0     Invalid        USA   \n",
       "3      2018.06.08  08-Jun-2018  2018.0  Unprovoked  AUSTRALIA   \n",
       "4      2018.06.04  04-Jun-2018  2018.0    Provoked     MEXICO   \n",
       "...           ...          ...     ...         ...        ...   \n",
       "25718         NaN          NaN     NaN         NaN        NaN   \n",
       "25719         NaN          NaN     NaN         NaN        NaN   \n",
       "25720         NaN          NaN     NaN         NaN        NaN   \n",
       "25721         NaN          NaN     NaN         NaN        NaN   \n",
       "25722          xx          NaN     NaN         NaN        NaN   \n",
       "\n",
       "                  Area                        Location     Activity  \\\n",
       "0           California     Oceanside, San Diego County     Paddling   \n",
       "1              Georgia  St. Simon Island, Glynn County     Standing   \n",
       "2               Hawaii                    Habush, Oahu      Surfing   \n",
       "3      New South Wales              Arrawarra Headland      Surfing   \n",
       "4               Colima                        La Ticla  Free diving   \n",
       "...                ...                             ...          ...   \n",
       "25718              NaN                             NaN          NaN   \n",
       "25719              NaN                             NaN          NaN   \n",
       "25720              NaN                             NaN          NaN   \n",
       "25721              NaN                             NaN          NaN   \n",
       "25722              NaN                             NaN          NaN   \n",
       "\n",
       "                  Name Sex   Age  \\\n",
       "0          Julie Wolfe    F   57   \n",
       "1      Adyson McNeely     F   11   \n",
       "2          John Denges    M   48   \n",
       "3                 male    M  NaN   \n",
       "4       Gustavo Ramos     M  NaN   \n",
       "...                ...  ...  ...   \n",
       "25718              NaN  NaN  NaN   \n",
       "25719              NaN  NaN  NaN   \n",
       "25720              NaN  NaN  NaN   \n",
       "25721              NaN  NaN  NaN   \n",
       "25722              NaN  NaN  NaN   \n",
       "\n",
       "                                                  Injury Fatal (Y/N)  \\\n",
       "0      No injury to occupant, outrigger canoe and pad...           N   \n",
       "1                             Minor injury to left thigh           N   \n",
       "2           Injury to left lower leg from surfboard skeg           N   \n",
       "3                              Minor injury to lower leg           N   \n",
       "4      Lacerations to leg & hand shark PROVOKED INCIDENT           N   \n",
       "...                                                  ...         ...   \n",
       "25718                                                NaN         NaN   \n",
       "25719                                                NaN         NaN   \n",
       "25720                                                NaN         NaN   \n",
       "25721                                                NaN         NaN   \n",
       "25722                                                NaN         NaN   \n",
       "\n",
       "                Time         Species           Investigator or Source  \\\n",
       "0              18h00      White shark                R. Collier, GSAF   \n",
       "1      14h00  -15h00              NaN  K.McMurray, TrackingSharks.com   \n",
       "2              07h45              NaN  K.McMurray, TrackingSharks.com   \n",
       "3                NaN        2 m shark                  B. Myatt, GSAF   \n",
       "4                NaN  Tiger shark, 3m                       A .Kipper   \n",
       "...              ...              ...                             ...   \n",
       "25718            NaN              NaN                             NaN   \n",
       "25719            NaN              NaN                             NaN   \n",
       "25720            NaN              NaN                             NaN   \n",
       "25721            NaN              NaN                             NaN   \n",
       "25722            NaN              NaN                             NaN   \n",
       "\n",
       "                            pdf  \\\n",
       "0          2018.06.25-Wolfe.pdf   \n",
       "1        2018.06.18-McNeely.pdf   \n",
       "2         2018.06.09-Denges.pdf   \n",
       "3      2018.06.08-Arrawarra.pdf   \n",
       "4          2018.06.04-Ramos.pdf   \n",
       "...                         ...   \n",
       "25718                       NaN   \n",
       "25719                       NaN   \n",
       "25720                       NaN   \n",
       "25721                       NaN   \n",
       "25722                       NaN   \n",
       "\n",
       "                                            href formula  \\\n",
       "0      http://sharkattackfile.net/spreadsheets/pdf_di...   \n",
       "1      http://sharkattackfile.net/spreadsheets/pdf_di...   \n",
       "2      http://sharkattackfile.net/spreadsheets/pdf_di...   \n",
       "3      http://sharkattackfile.net/spreadsheets/pdf_di...   \n",
       "4      http://sharkattackfile.net/spreadsheets/pdf_di...   \n",
       "...                                                  ...   \n",
       "25718                                                NaN   \n",
       "25719                                                NaN   \n",
       "25720                                                NaN   \n",
       "25721                                                NaN   \n",
       "25722                                                NaN   \n",
       "\n",
       "                                                    href Case Number.1  \\\n",
       "0      http://sharkattackfile.net/spreadsheets/pdf_di...    2018.06.25   \n",
       "1      http://sharkattackfile.net/spreadsheets/pdf_di...    2018.06.18   \n",
       "2      http://sharkattackfile.net/spreadsheets/pdf_di...    2018.06.09   \n",
       "3      http://sharkattackfile.net/spreadsheets/pdf_di...    2018.06.08   \n",
       "4      http://sharkattackfile.net/spreadsheets/pdf_di...    2018.06.04   \n",
       "...                                                  ...           ...   \n",
       "25718                                                NaN           NaN   \n",
       "25719                                                NaN           NaN   \n",
       "25720                                                NaN           NaN   \n",
       "25721                                                NaN           NaN   \n",
       "25722                                                NaN           NaN   \n",
       "\n",
       "      Case Number.2  original order Unnamed: 22 Unnamed: 23  \n",
       "0        2018.06.25          6303.0         NaN         NaN  \n",
       "1        2018.06.18          6302.0         NaN         NaN  \n",
       "2        2018.06.09          6301.0         NaN         NaN  \n",
       "3        2018.06.08          6300.0         NaN         NaN  \n",
       "4        2018.06.04          6299.0         NaN         NaN  \n",
       "...             ...             ...         ...         ...  \n",
       "25718           NaN             NaN         NaN         NaN  \n",
       "25719           NaN             NaN         NaN         NaN  \n",
       "25720           NaN             NaN         NaN         NaN  \n",
       "25721           NaN             NaN         NaN         NaN  \n",
       "25722           NaN             NaN         NaN         NaN  \n",
       "\n",
       "[25723 rows x 24 columns]"
      ]
     },
     "metadata": {},
     "output_type": "display_data"
    }
   ],
   "source": [
    "sharks = pd.read_csv('attacks.csv', encoding = 'latin1')\n",
    "display(sharks)"
   ]
  },
  {
   "cell_type": "markdown",
   "id": "f32980fc",
   "metadata": {},
   "source": [
    "# 3. Exploración del data frame"
   ]
  },
  {
   "cell_type": "markdown",
   "id": "c6d870dd",
   "metadata": {},
   "source": [
    "3.1. Elementos totales del data frame (número de filas multiplicado por el número de columnas)."
   ]
  },
  {
   "cell_type": "code",
   "execution_count": 3,
   "id": "a7237559",
   "metadata": {},
   "outputs": [
    {
     "name": "stdout",
     "output_type": "stream",
     "text": [
      "617352\n"
     ]
    }
   ],
   "source": [
    "print(sharks.size)"
   ]
  },
  {
   "cell_type": "markdown",
   "id": "54a387de",
   "metadata": {},
   "source": [
    "3.2. Número de filas y número de columnas."
   ]
  },
  {
   "cell_type": "code",
   "execution_count": 4,
   "id": "b00d25ca",
   "metadata": {},
   "outputs": [
    {
     "name": "stdout",
     "output_type": "stream",
     "text": [
      "(25723, 24)\n"
     ]
    }
   ],
   "source": [
    "print(sharks.shape)"
   ]
  },
  {
   "cell_type": "markdown",
   "id": "3a2777d0",
   "metadata": {},
   "source": [
    "3.3. Información general del data frame."
   ]
  },
  {
   "cell_type": "code",
   "execution_count": 5,
   "id": "bfd0da1c",
   "metadata": {
    "scrolled": false
   },
   "outputs": [
    {
     "name": "stdout",
     "output_type": "stream",
     "text": [
      "<class 'pandas.core.frame.DataFrame'>\n",
      "RangeIndex: 25723 entries, 0 to 25722\n",
      "Data columns (total 24 columns):\n",
      " #   Column                  Non-Null Count  Dtype  \n",
      "---  ------                  --------------  -----  \n",
      " 0   Case Number             8702 non-null   object \n",
      " 1   Date                    6302 non-null   object \n",
      " 2   Year                    6300 non-null   float64\n",
      " 3   Type                    6298 non-null   object \n",
      " 4   Country                 6252 non-null   object \n",
      " 5   Area                    5847 non-null   object \n",
      " 6   Location                5762 non-null   object \n",
      " 7   Activity                5758 non-null   object \n",
      " 8   Name                    6092 non-null   object \n",
      " 9   Sex                     5737 non-null   object \n",
      " 10  Age                     3471 non-null   object \n",
      " 11  Injury                  6274 non-null   object \n",
      " 12  Fatal (Y/N)             5763 non-null   object \n",
      " 13  Time                    2948 non-null   object \n",
      " 14  Species                 3464 non-null   object \n",
      " 15  Investigator or Source  6285 non-null   object \n",
      " 16  pdf                     6302 non-null   object \n",
      " 17  href formula            6301 non-null   object \n",
      " 18  href                    6302 non-null   object \n",
      " 19  Case Number.1           6302 non-null   object \n",
      " 20  Case Number.2           6302 non-null   object \n",
      " 21  original order          6309 non-null   float64\n",
      " 22  Unnamed: 22             1 non-null      object \n",
      " 23  Unnamed: 23             2 non-null      object \n",
      "dtypes: float64(2), object(22)\n",
      "memory usage: 4.7+ MB\n"
     ]
    },
    {
     "data": {
      "text/plain": [
       "None"
      ]
     },
     "metadata": {},
     "output_type": "display_data"
    }
   ],
   "source": [
    "display(sharks.info())"
   ]
  },
  {
   "cell_type": "markdown",
   "id": "cc05d9fb",
   "metadata": {},
   "source": [
    "3.4. Nombres de las columnas del data frame."
   ]
  },
  {
   "cell_type": "code",
   "execution_count": 6,
   "id": "403e309e",
   "metadata": {},
   "outputs": [
    {
     "name": "stdout",
     "output_type": "stream",
     "text": [
      "Index(['Case Number', 'Date', 'Year', 'Type', 'Country', 'Area', 'Location',\n",
      "       'Activity', 'Name', 'Sex ', 'Age', 'Injury', 'Fatal (Y/N)', 'Time',\n",
      "       'Species ', 'Investigator or Source', 'pdf', 'href formula', 'href',\n",
      "       'Case Number.1', 'Case Number.2', 'original order', 'Unnamed: 22',\n",
      "       'Unnamed: 23'],\n",
      "      dtype='object')\n"
     ]
    }
   ],
   "source": [
    "print(sharks.columns)"
   ]
  },
  {
   "cell_type": "markdown",
   "id": "28f4f8eb",
   "metadata": {},
   "source": [
    "3.5. Tipo de datos del data frame. "
   ]
  },
  {
   "cell_type": "code",
   "execution_count": 7,
   "id": "738ed78e",
   "metadata": {
    "scrolled": false
   },
   "outputs": [
    {
     "data": {
      "text/plain": [
       "Case Number                object\n",
       "Date                       object\n",
       "Year                      float64\n",
       "Type                       object\n",
       "Country                    object\n",
       "Area                       object\n",
       "Location                   object\n",
       "Activity                   object\n",
       "Name                       object\n",
       "Sex                        object\n",
       "Age                        object\n",
       "Injury                     object\n",
       "Fatal (Y/N)                object\n",
       "Time                       object\n",
       "Species                    object\n",
       "Investigator or Source     object\n",
       "pdf                        object\n",
       "href formula               object\n",
       "href                       object\n",
       "Case Number.1              object\n",
       "Case Number.2              object\n",
       "original order            float64\n",
       "Unnamed: 22                object\n",
       "Unnamed: 23                object\n",
       "dtype: object"
      ]
     },
     "metadata": {},
     "output_type": "display_data"
    }
   ],
   "source": [
    "display(sharks.dtypes)"
   ]
  },
  {
   "cell_type": "markdown",
   "id": "1cf48507",
   "metadata": {},
   "source": [
    "# 4. Valores nulos por FILAS"
   ]
  },
  {
   "cell_type": "markdown",
   "id": "13c0c47d",
   "metadata": {},
   "source": [
    "4.1. Eliminación de las FILAS en las cuáles todos sus valores sean nulos."
   ]
  },
  {
   "cell_type": "code",
   "execution_count": 8,
   "id": "2ddb6ee6",
   "metadata": {},
   "outputs": [
    {
     "name": "stdout",
     "output_type": "stream",
     "text": [
      "None\n"
     ]
    }
   ],
   "source": [
    "filas_nulas = sharks.dropna(how = 'all', inplace=True)\n",
    "print(filas_nulas)"
   ]
  },
  {
   "cell_type": "markdown",
   "id": "b347c000",
   "metadata": {},
   "source": [
    "4.2. Eliminación de FILAS cuyos valores nulos superen el 75% de los datos. "
   ]
  },
  {
   "cell_type": "code",
   "execution_count": 9,
   "id": "71c4788d",
   "metadata": {},
   "outputs": [],
   "source": [
    "def rows_removal (x):\n",
    "    threshold = 0.75 * len(sharks.columns)\n",
    "    return x.dropna(thresh = threshold)\n",
    "\n",
    "sharks = rows_removal(sharks)"
   ]
  },
  {
   "cell_type": "markdown",
   "id": "d82aef53",
   "metadata": {},
   "source": [
    "4.2. Comprobación de las medidas del data frame después de haber borrado las FILAS."
   ]
  },
  {
   "cell_type": "code",
   "execution_count": 10,
   "id": "6a65d91f",
   "metadata": {},
   "outputs": [
    {
     "name": "stdout",
     "output_type": "stream",
     "text": [
      "(5874, 24)\n"
     ]
    }
   ],
   "source": [
    "print(sharks.shape)\n",
    "\n",
    "# 19.849 filas menos."
   ]
  },
  {
   "cell_type": "markdown",
   "id": "44e951f9",
   "metadata": {},
   "source": [
    "# 5. Valores nulos por COLUMNAS"
   ]
  },
  {
   "cell_type": "markdown",
   "id": "df3a5920",
   "metadata": {},
   "source": [
    "5.1. Cuántos elementos nulos hay por cada COLUMNA."
   ]
  },
  {
   "cell_type": "code",
   "execution_count": 11,
   "id": "f22ccfc4",
   "metadata": {
    "scrolled": false
   },
   "outputs": [
    {
     "name": "stdout",
     "output_type": "stream",
     "text": [
      "Case Number                  1\n",
      "Date                         0\n",
      "Year                         2\n",
      "Type                         1\n",
      "Country                     10\n",
      "Area                       240\n",
      "Location                   314\n",
      "Activity                   349\n",
      "Name                        62\n",
      "Sex                        337\n",
      "Age                       2419\n",
      "Injury                       8\n",
      "Fatal (Y/N)                443\n",
      "Time                      2942\n",
      "Species                   2522\n",
      "Investigator or Source      13\n",
      "pdf                          0\n",
      "href formula                 1\n",
      "href                         0\n",
      "Case Number.1                0\n",
      "Case Number.2                0\n",
      "original order               0\n",
      "Unnamed: 22               5873\n",
      "Unnamed: 23               5872\n",
      "dtype: int64\n"
     ]
    }
   ],
   "source": [
    "nan_cols = sharks.isna().sum()\n",
    "nan_cols[nan_cols > 0]\n",
    "print(nan_cols)"
   ]
  },
  {
   "cell_type": "markdown",
   "id": "10251df4",
   "metadata": {},
   "source": [
    "5.2. Sustitución de los valores nulos en las COLUMNAS."
   ]
  },
  {
   "cell_type": "code",
   "execution_count": 12,
   "id": "8b07c446",
   "metadata": {},
   "outputs": [],
   "source": [
    "sharks = sharks.fillna('Unknown')"
   ]
  },
  {
   "cell_type": "markdown",
   "id": "b071cd4b",
   "metadata": {},
   "source": [
    "# 6. Comprobación de los datos del data frame"
   ]
  },
  {
   "cell_type": "markdown",
   "id": "84df995a",
   "metadata": {},
   "source": [
    "# 7. Reordenación de columnas según el objetivo"
   ]
  },
  {
   "cell_type": "code",
   "execution_count": 13,
   "id": "05744b61",
   "metadata": {
    "scrolled": false
   },
   "outputs": [],
   "source": [
    "columns_order = ['Country', 'Year', 'Sex ', 'Age', 'Fatal (Y/N)', 'Date', 'Type',  'Area', 'Location',\n",
    "       'Activity', 'Name', 'Injury', 'Time',\n",
    "       'Species ', 'Investigator or Source', 'pdf', 'href formula', 'href', 'Case Number',\n",
    "       'Case Number.1', 'Case Number.2', 'original order', 'Unnamed: 22',\n",
    "       'Unnamed: 23']\n",
    "sharks = sharks.reindex(columns = columns_order) "
   ]
  },
  {
   "cell_type": "markdown",
   "id": "fbfab98d",
   "metadata": {},
   "source": [
    "7.2. Cambio nombre columna 'Sex '."
   ]
  },
  {
   "cell_type": "markdown",
   "id": "15e8a134",
   "metadata": {},
   "source": [
    "# 8. Limpieza de los datos por COLUMNA"
   ]
  },
  {
   "cell_type": "markdown",
   "id": "f9e74c64",
   "metadata": {},
   "source": [
    "# 8.1. Limpieza columna 'Country'."
   ]
  },
  {
   "cell_type": "code",
   "execution_count": 14,
   "id": "966f9332",
   "metadata": {
    "scrolled": false
   },
   "outputs": [
    {
     "name": "stdout",
     "output_type": "stream",
     "text": [
      "['USA' 'Australia' 'England' 'New Zealand' 'Scotland' 'Canada' 'Ireland']\n"
     ]
    }
   ],
   "source": [
    "# Para que contenga los valores que se correspondan con los la lista.\n",
    "\n",
    "world_countries = ['Afghanistan', 'Albania', 'Germany', 'Andorra', 'Angola', 'Antigua and Barbuda', 'Saudi Arabia', 'Algeria', 'Argentina', 'Armenia',\n",
    "    'Australia', 'Austria', 'Azerbaijan', 'Bahamas', 'Bahrain', 'Bangladesh', 'Barbados', 'Belgium', 'Belize', 'Benin',\n",
    "    'Belarus', 'Myanmar', 'Bolivia', 'Bosnia and Herzegovina', 'Botswana', 'Brazil', 'Brunei', 'Bulgaria', 'Burkina Faso', 'Burundi',\n",
    "    'Bhutan', 'Cape Verde', 'Cambodia', 'Cameroon', 'Canada', 'Qatar', 'Chad', 'Chile', 'China', 'Cyprus',\n",
    "    'Colombia', 'Comoros', 'Congo', 'North Korea', 'South Korea', 'Ivory Coast', 'Costa Rica', 'Croatia', 'Cuba', 'Denmark',\n",
    "    'Dominica', 'Ecuador', 'Egypt', 'El Salvador', 'United Arab Emirates', 'Eritrea', 'Slovakia', 'Slovenia', 'Spain', 'United States',\n",
    "    'Estonia', 'Ethiopia', 'Fiji', 'Philippines', 'Finland', 'France', 'Gabon', 'Gambia', 'Georgia', 'Ghana', 'Grenada',\n",
    "    'Greece', 'Guatemala', 'Guinea', 'Guinea-Bissau', 'Guyana', 'Haiti', 'Honduras', 'Hungary', 'India', 'Indonesia', 'Iraq',\n",
    "    'Iran', 'Ireland', 'Iceland', 'Marshall Islands', 'Solomon Islands', 'Israel', 'Italy', 'Jamaica', 'Japan', 'Jordan',\n",
    "    'Kazakhstan', 'Kenya', 'Kyrgyzstan', 'Kiribati', 'Kuwait', 'Laos', 'Lesotho', 'Latvia', 'Lebanon', 'Liberia',\n",
    "    'Libya', 'Liechtenstein', 'Lithuania', 'Luxembourg', 'North Macedonia', 'Madagascar', 'Malaysia', 'Malawi', 'Maldives', 'Mali',\n",
    "    'Malta', 'Morocco', 'Mauritius', 'Mauritania', 'Mexico', 'Micronesia', 'Moldova', 'Monaco', 'Mongolia', 'Montenegro',\n",
    "    'Mozambique', 'Namibia', 'Nauru', 'Nepal', 'Nicaragua', 'Niger', 'Nigeria', 'Norway', 'New Zealand', 'Oman',\n",
    "    'Netherlands', 'Pakistan', 'Palau', 'Palestine', 'Panama', 'Papua New Guinea', 'Paraguay', 'Peru', 'Poland', 'Portugal',\n",
    "    'United Kingdom', 'Central African Republic', 'Czech Republic', 'Congo', 'Dominican Republic', 'Rwanda', 'Romania', 'Russia', 'Samoa',\n",
    "    'Saint Kitts and Nevis', 'San Marino', 'Saint Lucia', 'São Tomé and Príncipe', 'Senegal', 'Serbia', 'Seychelles', 'Sierra Leone', 'Singapore',\n",
    "    'Syria', 'Somalia', 'Sri Lanka', 'South Africa', 'Sudan', 'South Sudan', 'Sweden', 'Switzerland', 'Suriname', 'Eswatini',\n",
    "    'Thailand', 'Taiwan', 'Tanzania', 'Tajikistan', 'East Timor', 'Togo', 'Tonga', 'Trinidad and Tobago', 'Tunisia', 'Turkmenistan',\n",
    "    'Turkey', 'Tuvalu', 'Ukraine', 'Uganda', 'Uruguay', 'Uzbekistan', 'Vanuatu', 'Vatican', 'Venezuela', 'Vietnam', 'Yemen',\n",
    "    'Djibouti', 'Zambia', 'Zimbabwe', 'usa', 'england', 'scotland', 'colombia', 'nicaragua', 'sudan', 'egypt', 'peru', 'ghana', 'korea']\n",
    "\n",
    "\n",
    "# Conversión a minúsculas.\n",
    "\n",
    "world_countries = [e.lower() for e in world_countries]\n",
    "\n",
    "\n",
    "#Verificar qué países hay. \n",
    "\n",
    "def correct_country (x):\n",
    "    x = x.lower()\n",
    "    if x in world_countries:\n",
    "        return x\n",
    "    else:\n",
    "        return 'Unknown'\n",
    "    return x\n",
    "\n",
    "sharks['Country'] = sharks['Country'].apply(correct_country)\n",
    "\n",
    "\n",
    "# Conversión a mayúsculas de las primeras letras.\n",
    "\n",
    "def correct_mayusc (x): \n",
    "    if x != 'usa':\n",
    "        return x.title()\n",
    "    else:\n",
    "        return 'USA'\n",
    "    \n",
    "sharks['Country'] = sharks['Country'].apply(correct_mayusc)\n",
    "\n",
    "\n",
    "# Creación columna con filtro por países de habla inglesa o no.\n",
    "\n",
    "english_sp_places = ['USA', 'England', 'Scotland', 'Ireland', 'Australia', 'Canada', 'New Zealand']\n",
    "sharks['English Speaking'] = sharks['Country'].apply(lambda x: 'Yes' if x in english_sp_places else 'No')\n",
    "\n",
    "\n",
    "# Eliminación por FILAS de países que NO sean de habla inglesa.\n",
    "\n",
    "sharks = sharks[sharks['English Speaking'] != 'No']\n",
    "\n",
    "\n",
    "# Comprobación. \n",
    "\n",
    "print(sharks['Country'].unique())"
   ]
  },
  {
   "cell_type": "markdown",
   "id": "71187f66",
   "metadata": {},
   "source": [
    "# 8.2. Limpieza columna 'Year'."
   ]
  },
  {
   "cell_type": "code",
   "execution_count": 15,
   "id": "7f9f2d99",
   "metadata": {
    "scrolled": true
   },
   "outputs": [
    {
     "name": "stdout",
     "output_type": "stream",
     "text": [
      "[2018 2017 2016 2015 2014 2013 2012 2011 2010 2009 2008 2007 2006 2005\n",
      " 2004 2003 2002 2001 2000 1999 1998 1997 1996 1995 1994 1993 1992 1991\n",
      " 1990 1989 1988 1987 1986 1985 1984 1983 1982 1981 1980 1979 1978 1977\n",
      " 1976 1975 1974 1973 1972 1971 1970 1969 1968 1967 1966 1965 1964 1963\n",
      " 1962 1961 1960 1959 1958 1957 1956 1955 1954 1953 1952 1951 1950 1949\n",
      " 1948 1947 1946 1945 1944 1943 1942 1941 1940 1939 1938 1937 1936 1935\n",
      " 1934 1933 1932 1931 1930 1929 1928 1927 1926 1925 1924 1923 1922 1921\n",
      " 1920 1919 1918 1917 1916 1915 1914 1913 1912 1911 1910 1909 1908 1907\n",
      " 1906 1905 1904 1903 1902 1901]\n"
     ]
    }
   ],
   "source": [
    "# Sustitución de 'Unknown' por valores de columna con datos del año.\n",
    "\n",
    "values = sharks[sharks['Year'] == 'Unknown']['Case Number'].str.split('.').values\n",
    "\n",
    "values = [e[0] for e in values]\n",
    "\n",
    "indexes = sharks[sharks['Year'] == 'Unknown'].index\n",
    "\n",
    "sharks.loc[indexes, 'Year'] = values\n",
    "\n",
    "\n",
    "# Conversión de los años de 'float' a 'integer'.\n",
    "\n",
    "sharks['Year'] = sharks['Year'].astype(int)\n",
    "\n",
    "\n",
    "# Eliminación por FILAS de ataques que NO fueran en los siglos XX y XXI.\n",
    "\n",
    "sharks = sharks[(sharks['Year'] >= 1901) & (sharks['Year'] <= 2018)]\n",
    "\n",
    "\n",
    "# Comprobación. \n",
    "\n",
    "print(sharks['Year'].unique())"
   ]
  },
  {
   "cell_type": "markdown",
   "id": "1ee38607",
   "metadata": {},
   "source": [
    "# 8.3. Limpieza columna 'Sex'."
   ]
  },
  {
   "cell_type": "code",
   "execution_count": 16,
   "id": "94c94766",
   "metadata": {
    "scrolled": false
   },
   "outputs": [
    {
     "ename": "KeyError",
     "evalue": "'Sex'",
     "output_type": "error",
     "traceback": [
      "\u001b[0;31m---------------------------------------------------------------------------\u001b[0m",
      "\u001b[0;31mKeyError\u001b[0m                                  Traceback (most recent call last)",
      "File \u001b[0;32m~/anaconda3/envs/clase/lib/python3.10/site-packages/pandas/core/indexes/base.py:3790\u001b[0m, in \u001b[0;36mIndex.get_loc\u001b[0;34m(self, key)\u001b[0m\n\u001b[1;32m   3789\u001b[0m \u001b[39mtry\u001b[39;00m:\n\u001b[0;32m-> 3790\u001b[0m     \u001b[39mreturn\u001b[39;00m \u001b[39mself\u001b[39;49m\u001b[39m.\u001b[39;49m_engine\u001b[39m.\u001b[39;49mget_loc(casted_key)\n\u001b[1;32m   3791\u001b[0m \u001b[39mexcept\u001b[39;00m \u001b[39mKeyError\u001b[39;00m \u001b[39mas\u001b[39;00m err:\n",
      "File \u001b[0;32mindex.pyx:152\u001b[0m, in \u001b[0;36mpandas._libs.index.IndexEngine.get_loc\u001b[0;34m()\u001b[0m\n",
      "File \u001b[0;32mindex.pyx:181\u001b[0m, in \u001b[0;36mpandas._libs.index.IndexEngine.get_loc\u001b[0;34m()\u001b[0m\n",
      "File \u001b[0;32mpandas/_libs/hashtable_class_helper.pxi:7080\u001b[0m, in \u001b[0;36mpandas._libs.hashtable.PyObjectHashTable.get_item\u001b[0;34m()\u001b[0m\n",
      "File \u001b[0;32mpandas/_libs/hashtable_class_helper.pxi:7088\u001b[0m, in \u001b[0;36mpandas._libs.hashtable.PyObjectHashTable.get_item\u001b[0;34m()\u001b[0m\n",
      "\u001b[0;31mKeyError\u001b[0m: 'Sex'",
      "\nThe above exception was the direct cause of the following exception:\n",
      "\u001b[0;31mKeyError\u001b[0m                                  Traceback (most recent call last)",
      "\u001b[1;32m/Users/borch/Downloads/shark_attacks.ipynb Cell 39\u001b[0m line \u001b[0;36m3\n\u001b[1;32m      <a href='vscode-notebook-cell:/Users/borch/Downloads/shark_attacks.ipynb#X55sZmlsZQ%3D%3D?line=0'>1</a>\u001b[0m \u001b[39m# Para que contenga valores 'M', 'N', 'lli', 'N' y 'Unknown'.\u001b[39;00m\n\u001b[0;32m----> <a href='vscode-notebook-cell:/Users/borch/Downloads/shark_attacks.ipynb#X55sZmlsZQ%3D%3D?line=2'>3</a>\u001b[0m sharks[\u001b[39m'\u001b[39m\u001b[39mSex\u001b[39m\u001b[39m'\u001b[39m] \u001b[39m=\u001b[39m sharks[\u001b[39m'\u001b[39;49m\u001b[39mSex\u001b[39;49m\u001b[39m'\u001b[39;49m]\u001b[39m.\u001b[39mapply(\u001b[39mlambda\u001b[39;00m x: \u001b[39m'\u001b[39m\u001b[39mM\u001b[39m\u001b[39m'\u001b[39m \u001b[39mif\u001b[39;00m x \u001b[39m==\u001b[39m \u001b[39m'\u001b[39m\u001b[39mM \u001b[39m\u001b[39m'\u001b[39m \u001b[39melse\u001b[39;00m \u001b[39m'\u001b[39m\u001b[39mUnknown\u001b[39m\u001b[39m'\u001b[39m \u001b[39mif\u001b[39;00m x \u001b[39m==\u001b[39m \u001b[39m'\u001b[39m\u001b[39m.\u001b[39m\u001b[39m'\u001b[39m \u001b[39melse\u001b[39;00m x)\n\u001b[1;32m      <a href='vscode-notebook-cell:/Users/borch/Downloads/shark_attacks.ipynb#X55sZmlsZQ%3D%3D?line=5'>6</a>\u001b[0m \u001b[39m# Eliminación por filas de ataques que NO fueran a hombres.\u001b[39;00m\n\u001b[1;32m      <a href='vscode-notebook-cell:/Users/borch/Downloads/shark_attacks.ipynb#X55sZmlsZQ%3D%3D?line=7'>8</a>\u001b[0m sharks \u001b[39m=\u001b[39m sharks[sharks[\u001b[39m'\u001b[39m\u001b[39mSex\u001b[39m\u001b[39m'\u001b[39m] \u001b[39m==\u001b[39m \u001b[39m'\u001b[39m\u001b[39mM\u001b[39m\u001b[39m'\u001b[39m]\n",
      "File \u001b[0;32m~/anaconda3/envs/clase/lib/python3.10/site-packages/pandas/core/frame.py:3896\u001b[0m, in \u001b[0;36mDataFrame.__getitem__\u001b[0;34m(self, key)\u001b[0m\n\u001b[1;32m   3894\u001b[0m \u001b[39mif\u001b[39;00m \u001b[39mself\u001b[39m\u001b[39m.\u001b[39mcolumns\u001b[39m.\u001b[39mnlevels \u001b[39m>\u001b[39m \u001b[39m1\u001b[39m:\n\u001b[1;32m   3895\u001b[0m     \u001b[39mreturn\u001b[39;00m \u001b[39mself\u001b[39m\u001b[39m.\u001b[39m_getitem_multilevel(key)\n\u001b[0;32m-> 3896\u001b[0m indexer \u001b[39m=\u001b[39m \u001b[39mself\u001b[39;49m\u001b[39m.\u001b[39;49mcolumns\u001b[39m.\u001b[39;49mget_loc(key)\n\u001b[1;32m   3897\u001b[0m \u001b[39mif\u001b[39;00m is_integer(indexer):\n\u001b[1;32m   3898\u001b[0m     indexer \u001b[39m=\u001b[39m [indexer]\n",
      "File \u001b[0;32m~/anaconda3/envs/clase/lib/python3.10/site-packages/pandas/core/indexes/base.py:3797\u001b[0m, in \u001b[0;36mIndex.get_loc\u001b[0;34m(self, key)\u001b[0m\n\u001b[1;32m   3792\u001b[0m     \u001b[39mif\u001b[39;00m \u001b[39misinstance\u001b[39m(casted_key, \u001b[39mslice\u001b[39m) \u001b[39mor\u001b[39;00m (\n\u001b[1;32m   3793\u001b[0m         \u001b[39misinstance\u001b[39m(casted_key, abc\u001b[39m.\u001b[39mIterable)\n\u001b[1;32m   3794\u001b[0m         \u001b[39mand\u001b[39;00m \u001b[39many\u001b[39m(\u001b[39misinstance\u001b[39m(x, \u001b[39mslice\u001b[39m) \u001b[39mfor\u001b[39;00m x \u001b[39min\u001b[39;00m casted_key)\n\u001b[1;32m   3795\u001b[0m     ):\n\u001b[1;32m   3796\u001b[0m         \u001b[39mraise\u001b[39;00m InvalidIndexError(key)\n\u001b[0;32m-> 3797\u001b[0m     \u001b[39mraise\u001b[39;00m \u001b[39mKeyError\u001b[39;00m(key) \u001b[39mfrom\u001b[39;00m \u001b[39merr\u001b[39;00m\n\u001b[1;32m   3798\u001b[0m \u001b[39mexcept\u001b[39;00m \u001b[39mTypeError\u001b[39;00m:\n\u001b[1;32m   3799\u001b[0m     \u001b[39m# If we have a listlike key, _check_indexing_error will raise\u001b[39;00m\n\u001b[1;32m   3800\u001b[0m     \u001b[39m#  InvalidIndexError. Otherwise we fall through and re-raise\u001b[39;00m\n\u001b[1;32m   3801\u001b[0m     \u001b[39m#  the TypeError.\u001b[39;00m\n\u001b[1;32m   3802\u001b[0m     \u001b[39mself\u001b[39m\u001b[39m.\u001b[39m_check_indexing_error(key)\n",
      "\u001b[0;31mKeyError\u001b[0m: 'Sex'"
     ]
    }
   ],
   "source": [
    "# Para que contenga valores 'M', 'N', 'lli', 'N' y 'Unknown'.\n",
    "\n",
    "sharks['Sex'] = sharks['Sex'].apply(lambda x: 'M' if x == 'M ' else 'Unknown' if x == '.' else x)\n",
    "\n",
    "\n",
    "# Eliminación por filas de ataques que NO fueran a hombres.\n",
    "\n",
    "sharks = sharks[sharks['Sex'] == 'M']\n",
    "\n",
    "\n",
    "# Comprobación.\n",
    "\n",
    "print(sharks['Sex'].unique())"
   ]
  },
  {
   "cell_type": "markdown",
   "id": "034615ec",
   "metadata": {},
   "source": [
    "# 8.4. Limpieza columna 'Age'."
   ]
  },
  {
   "cell_type": "code",
   "execution_count": null,
   "id": "4adb9539",
   "metadata": {},
   "outputs": [],
   "source": [
    "# Conversión de la serie de 'str' a 'float'.\n",
    "\n",
    "sharks['Age'] = pd.to_numeric(sharks['Age'], errors = 'coerce')\n",
    "\n",
    "\n",
    "# Conversión de datos de 'str' a 'Unknown'.\n",
    "\n",
    "sharks['Age'] = sharks['Age'].fillna('Unknown')\n",
    "\n",
    "\n",
    "#Comprobación. \n",
    "\n",
    "print(sharks['Age'].unique())"
   ]
  },
  {
   "cell_type": "markdown",
   "id": "96b744b6",
   "metadata": {},
   "source": [
    "# 8.5. Limpieza columna 'Fatal (Y/N)'."
   ]
  },
  {
   "cell_type": "code",
   "execution_count": null,
   "id": "99cabf37",
   "metadata": {
    "scrolled": true
   },
   "outputs": [],
   "source": [
    "# Para que contenga valores 'Y', 'N' y 'Unknown'.\n",
    "\n",
    "def correct_fatal (x):\n",
    "    if x == 'M' or x == ' N':\n",
    "        return 'N'\n",
    "    elif x == 'y':\n",
    "        return 'Y'\n",
    "    elif x == '2017' or x == 'UNKNOWN':\n",
    "        return 'Unknown'\n",
    "    return x\n",
    "\n",
    "sharks['Fatal (Y/N)'] = sharks['Fatal (Y/N)'].apply(correct_fatal)\n",
    "\n",
    "\n",
    "# Comprobación. \n",
    "\n",
    "print(sharks['Fatal (Y/N)'].unique())"
   ]
  },
  {
   "cell_type": "markdown",
   "id": "0893bd8e",
   "metadata": {},
   "source": [
    "# 8.6. Limpieza columna 'Case Number'."
   ]
  },
  {
   "cell_type": "code",
   "execution_count": null,
   "id": "8579b335",
   "metadata": {},
   "outputs": [],
   "source": [
    "# Extracción de año.mes.día de la columna 'pdf'.\n",
    "\n",
    "sharks['Case Number'] = sharks['pdf'].str[:10]\n",
    "\n",
    "\n",
    "# Comprobación.\n",
    "\n",
    "print(sharks['Case Number'].unique())"
   ]
  },
  {
   "cell_type": "markdown",
   "id": "171efe28",
   "metadata": {},
   "source": [
    "# 8.7. Limpieza columna 'Date'."
   ]
  },
  {
   "cell_type": "code",
   "execution_count": null,
   "id": "c32fb647",
   "metadata": {},
   "outputs": [],
   "source": [
    "# Extracción de año.mes.día de la columna 'pdf'.\n",
    "\n",
    "sharks['Date'] = sharks['pdf'].str[:10]"
   ]
  },
  {
   "cell_type": "code",
   "execution_count": null,
   "id": "c1d83320",
   "metadata": {},
   "outputs": [],
   "source": [
    "sharks"
   ]
  },
  {
   "cell_type": "markdown",
   "id": "d7cd5700",
   "metadata": {},
   "source": [
    "# 8.8. Limpieza columna 'Type'."
   ]
  },
  {
   "cell_type": "code",
   "execution_count": null,
   "id": "f91327e0",
   "metadata": {},
   "outputs": [],
   "source": [
    "# Para que tenga valores 'Invalid', '(Un)provoked', 'Questionable', 'Sea Disaster' y 'Boating'\n",
    "\n",
    "sharks['Type'] = sharks['Type'].apply(lambda x: 'Boating' if x == 'Boat' or x == 'Boatomg' else x)"
   ]
  },
  {
   "cell_type": "code",
   "execution_count": null,
   "id": "cdfb8cdb",
   "metadata": {},
   "outputs": [],
   "source": [
    "sharks['Type'].value_counts()"
   ]
  },
  {
   "cell_type": "markdown",
   "id": "c4cbd330",
   "metadata": {},
   "source": [
    "# 8.9. Limpieza columna 'Area'."
   ]
  },
  {
   "cell_type": "code",
   "execution_count": null,
   "id": "6dea0a44",
   "metadata": {},
   "outputs": [],
   "source": [
    "sharks['Area'].unique()"
   ]
  },
  {
   "cell_type": "markdown",
   "id": "91af9839",
   "metadata": {},
   "source": [
    "# 8.10. Limpieza columna 'Location'."
   ]
  },
  {
   "cell_type": "markdown",
   "id": "b9e56de4",
   "metadata": {},
   "source": [
    "# 8.11. Limpieza columna 'Activity'."
   ]
  },
  {
   "cell_type": "code",
   "execution_count": null,
   "id": "7f8ccfa8",
   "metadata": {
    "scrolled": false
   },
   "outputs": [],
   "source": [
    "# Almacenamiento de valores únicos en una variable. \n",
    "\n",
    "frequency = sharks['Activity'].value_counts()\n",
    "\n",
    "# Alamacenamiento de valores que se repiten menos de 4 veces en una variable. \n",
    "\n",
    "data_change = frequency[frequency < 4].index\n",
    "\n",
    "# Cambio de los datos en el data frame y sustitución del resto por 'Unknown'.\n",
    "\n",
    "sharks['Activity'] = sharks['Activity'].apply(lambda x: 'Unknown' if x in data_change else x)\n",
    "\n",
    "# Corrección de espacios\n",
    "\n",
    "def correct_spaces (x):\n",
    "    if x == 'Surfing ':\n",
    "        return 'Surfing'\n",
    "    elif x == 'Fishing ':\n",
    "        return 'Fishing'\n",
    "    elif x == 'Surf skiing':\n",
    "        return 'Surf-skiing'\n",
    "    else:\n",
    "        return x\n",
    "\n",
    "sharks['Activity'] = sharks['Activity'].apply(correct_spaces)"
   ]
  },
  {
   "cell_type": "code",
   "execution_count": null,
   "id": "d2cc1479",
   "metadata": {},
   "outputs": [],
   "source": [
    "\n",
    "#sharks['Activity'].value_counts()\n",
    "sharks['Activity'].unique()"
   ]
  },
  {
   "cell_type": "markdown",
   "id": "1ca1a255",
   "metadata": {},
   "source": [
    "# 8.12. Limpieza columna 'Name'."
   ]
  },
  {
   "cell_type": "code",
   "execution_count": null,
   "id": "437a78ff",
   "metadata": {},
   "outputs": [],
   "source": []
  },
  {
   "cell_type": "markdown",
   "id": "13a35831",
   "metadata": {},
   "source": [
    "# 8.13. Limpieza columna 'Injury'."
   ]
  },
  {
   "cell_type": "code",
   "execution_count": null,
   "id": "74971ac3",
   "metadata": {},
   "outputs": [],
   "source": []
  },
  {
   "cell_type": "markdown",
   "id": "bbe56402",
   "metadata": {},
   "source": [
    "# 8.14. Limpieza columna 'Time'."
   ]
  },
  {
   "cell_type": "code",
   "execution_count": null,
   "id": "b92b9f1a",
   "metadata": {},
   "outputs": [],
   "source": []
  },
  {
   "cell_type": "markdown",
   "id": "31b4fd3b",
   "metadata": {},
   "source": [
    "# 8.15. Limpieza columna 'Species'."
   ]
  },
  {
   "cell_type": "markdown",
   "id": "3724509d",
   "metadata": {},
   "source": [
    "# 8.16. Limpieza columna 'Investigator or Source'."
   ]
  },
  {
   "cell_type": "code",
   "execution_count": null,
   "id": "e0e5e7ce",
   "metadata": {},
   "outputs": [],
   "source": []
  },
  {
   "cell_type": "markdown",
   "id": "688363c5",
   "metadata": {},
   "source": [
    "# 8.17. Limpieza columna 'href formula' and 'href'."
   ]
  },
  {
   "cell_type": "code",
   "execution_count": null,
   "id": "d28ff87d",
   "metadata": {
    "scrolled": true
   },
   "outputs": [],
   "source": [
    "HTML(sharks.to_html(escape = False))"
   ]
  },
  {
   "cell_type": "markdown",
   "id": "d94885fb",
   "metadata": {},
   "source": [
    "# 8.18. Limpieza columna 'Case Number.1'."
   ]
  },
  {
   "cell_type": "code",
   "execution_count": null,
   "id": "1ec0570c",
   "metadata": {},
   "outputs": [],
   "source": [
    "# Extracción de año.mes.día de la columna 'pdf'.\n",
    "\n",
    "sharks['Case Number.1'] = sharks['pdf'].str[:10]"
   ]
  },
  {
   "cell_type": "markdown",
   "id": "5b11d592",
   "metadata": {},
   "source": [
    "# 8.19. Limpieza columna 'Case Number.2'."
   ]
  },
  {
   "cell_type": "code",
   "execution_count": null,
   "id": "c06beee0",
   "metadata": {},
   "outputs": [],
   "source": [
    "# Extracción de año.mes.día de la columna 'pdf'.\n",
    "\n",
    "sharks['Case Number.2'] = sharks['pdf'].str[:10]"
   ]
  },
  {
   "cell_type": "markdown",
   "id": "0f9be2d6",
   "metadata": {},
   "source": [
    "# 8.20. Limpieza columna 'original order'."
   ]
  },
  {
   "cell_type": "code",
   "execution_count": null,
   "id": "85639037",
   "metadata": {},
   "outputs": [],
   "source": [
    "sharks['original order'].unique()"
   ]
  },
  {
   "cell_type": "code",
   "execution_count": null,
   "id": "746a5793",
   "metadata": {},
   "outputs": [],
   "source": []
  },
  {
   "cell_type": "code",
   "execution_count": null,
   "id": "7a3edd11",
   "metadata": {},
   "outputs": [],
   "source": []
  }
 ],
 "metadata": {
  "kernelspec": {
   "display_name": "clase",
   "language": "python",
   "name": "clase"
  },
  "language_info": {
   "codemirror_mode": {
    "name": "ipython",
    "version": 3
   },
   "file_extension": ".py",
   "mimetype": "text/x-python",
   "name": "python",
   "nbconvert_exporter": "python",
   "pygments_lexer": "ipython3",
   "version": "3.10.13"
  }
 },
 "nbformat": 4,
 "nbformat_minor": 5
}
